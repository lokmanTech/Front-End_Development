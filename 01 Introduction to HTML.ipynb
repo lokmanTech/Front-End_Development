{
 "cells": [
  {
   "cell_type": "markdown",
   "metadata": {},
   "source": [
    "# Introduction to HTML\n",
    "\n",
    "HTML stands for Hypertext Markup Language, is a fundamental language used for creating and structuring web pages. It provides a standardized way to organize and format contect on the World Wide Web, makin it accessible to web browsers and, in turn, to internet users like you.\n",
    "\n",
    "Here's brief overview of HTML:\n",
    "1. <b>Markup Language:</b> HTML is a markup language, not a programming language. It uses tags to define the structure and presentation of content on a web page.\n",
    "2. <b>Document Structure:</b> HTML documents are organized into a hierarchy. They typically consist of two main sections:\n",
    "    * ```<head>```: This section contains metadata about the documents, such as the title of the page and links to external resources like stylesheets and scripts.\n",
    "    * ```<body>```: This section contains the visible content of the web page, including text, images, links and other media.\n",
    "3. <b>Tags:</b> HTML elements are defined using tags enclosed in agle bracket, eg., ```<tagname>```. Tags come in pairs: an opening tag and a closing tag. The closing tag is the same as the opening tag but with a forward slash before the tag name. For example:\n",
    "\n",
    "* ```<p>```: Represents a paragraph of text.\n",
    "* ```<a>```: Defines hyperlinks.\n",
    "* ```<img>```: Embeds images.\n",
    "* ```<h1> ~ <h6>```: Headings of differents levels.\n",
    "\n",
    "4. <b>Attributes:</b> Many HTML tags have attributes that provide additional information or settings. For instance, the ```<a>``` tag has an <b>href</b> attribute to specify the URL of the link, and the ```<img>``` tag has <b>src</b> attribute to specify the image source.\n",
    "5. <b>Nesting:</b> HTML elements can be nested inside other elements, creating a hierarchical structure. For example, you can place a paragraph ```<p>``` element inside a division ```<div>``` element.\n",
    "6. <b>Whitespace:</b> Extra spaces and line breaks within your HTML code are typically ignored by web browsers. They are used for better code readibility and organization.\n",
    "\n",
    "HTML is the foundation of web development, and learning it is an essential first step for anyone interested in creating web pages or web applications. It serves as the building blocks upon which you can add styles (with CSS) and interactivity (with JavaScript) to create rich and engaging web experiences.\n",
    "\n",
    "\n",
    "HTML is made up of elements, which are defined by start and end tags. The content of an element is placed between the start and end tags. For example, the following HTML code creates a heading:\n",
    "\n",
    "Here is a simple of an HTML documents\n",
    "```html\n",
    "<!DOCTYPE html>\n",
    "<html>\n",
    "    <head>\n",
    "        <title>My HTML Code</title>\n",
    "    </head>\n",
    "\n",
    "    <body>\n",
    "        <h1>Hello, HTML!</h1>\n",
    "        <p>This is a paragraph</p>\n",
    "    </body>\n",
    "</html>```\n",
    "\n",
    "When this document is opened in a web browser will display the following:\n",
    "\n"
   ]
  },
  {
   "cell_type": "markdown",
   "metadata": {},
   "source": [
    "<title>My HTML Code</title>\n",
    "<fieldset>\n",
    "<h1>Hello, HTML!</h1>\n",
    "<p>This is a paragaph</p>\n",
    "</fieldset>"
   ]
  },
  {
   "cell_type": "markdown",
   "metadata": {},
   "source": [
    "HTML is a relative easy language to learn, and there are many resources available online to help you get started. Once you have learned the basics of HTML, you will be able to create your own web pages and start publishing your content on the web.\n",
    "\n",
    "Here are some of the benefits of learning HTML:\n",
    "1. HTML is the foundation of the web, so it is an essential skill for anyone who wants to work in web development.\n",
    "2. HTML is a relatively easy language to learn, even for beginners.\n",
    "3. HTML is a very versatile language, and it can be used to create all sorts of web content, from simple websites to complex web applications.\n",
    "4. There are many resources available online to help you learn HTML.\n"
   ]
  },
  {
   "cell_type": "markdown",
   "metadata": {},
   "source": [
    "<fieldset>\n",
    "<legend><h1>Front End Master Bootcamp - Introduction to HTML</h1></legend>\n",
    "Furthermore, I have attend frontendmaster bootcamp taught by Jen Kramer\n",
    "\n",
    "In the class she also taught mroe on about the platform, which learn the fundamental of HTML a front-end for visualization in depth and step by step.\n",
    "\n",
    "The notes from the course as listed:\n",
    "<ol>\n",
    "    <li><b>Introduction:</b> Jen Kramer welcomes students and then reviews the resources and assets for the Bootcamp.</li>\n",
    "    <li><b>VS Code Setup:</b> Jen walks students though the setup of VS Code, including adding the Open in Browser VS Code extension to allow for viewing HTML code in the browser.</li>\n",
    "    <li><b>Creating a folder:</b> Jen creates a folder on the desktop and opens it within VS Code to set up a simple work environment.</li>\n",
    "</ol>\n",
    "\n",
    "<Strong>HTML Basics</Strong>\n",
    "\n",
    "<ol>\n",
    "    <li><b>Creating Your First HTML Page:</b> Jen begins creating a web pages by instructing students how to open a file inside of the VS code editor and generate basic HTML tags.</li>\n",
    "    <li><b>Creating Content:</b> Jen explains what each line of the HTML scaffolding does and demonstrate how to open a web page in the browser.</li>\n",
    "    <li><b> Adding Paragraph ```<p>[you paragraph here] </p>``` and List ```<li> [one of your list here] </li>```:</b> Jen introduces the paragraph tag and two types of list tags, and explains how HTML tags work both inside the code editor as well as within the browser.</li>\n",
    "    <li><b>Ordered List```<ol><li>[your ordered list here]</li></ol>``` Exercise & Solution:</b> Student are instructed to create an ordered list of steps to construct a peanut butter and jelly sandwich. Then, Jen displays an example of a solution to the exercise and covers some common mistakes that students make.</li>\n",
    "</ol>\n",
    "\n",
    "<strong>HTML Links, Heading & Images</strong>\n",
    "\n",
    "<ol>\n",
    "    <li><b>Creating a link ```<a>href=\"your source/link here\"</a>```</b>: Jen demonstrates how to add links to the page using an anchor tag and discusses what attributes are.</li>\n",
    "    <li><b>Creating & Linking to Another Page:</b> Jen demonstrates how to create another web page and then link to it. There is also a helpful hint about how to wrap words inside of the VSCode editor.</li>\n",
    "    <li><b>Heading Q&A:</b> Jen explains heading tags in the context of the webpages.\n",
    "    <li><b>Images ```<img source=\"your source of the image here\">```:</b> Jen gives instruction on how to insert images into a web page.</li>\n",
    "    <li><b>Downloading & Adding an Image:</b> Jen demonstrate how to add images from a local source.\n",
    "</ol>\n",
    "\n",
    "<strong>HTML Extras</strong>\n",
    "\n",
    "<ol>\n",
    "    <li><b>Blockquote, strong, & Emphasize Tags:</b> Jen demonstrate usage of the blockquote tag, the strong tag, and the em tag for designation various kind of emphasized text.</li>\n",
    "    <li><b>HTML Validator:</b> Jen introduces HTML validators that check for coding mistakes within a web page. <b><a href=\"https://validator.w3.org\">HTML Validator</a></b>.</li>\n",
    "    <li><b>Image Resize Q&A:</b> Q&A sessions about images on a web page and discusses options for image resizing.\n",
    "</ol>\n",
    "\n",
    "<Strong>HTML Practice</strong>\n",
    "\n",
    "<ol>\n",
    "    <li><b>Book Markup Exercise:</b> Students are instructed to mark up a simple boook chapter using the HTML principles learned in the prev lessons. and reviews external ref for students t extend their knowledge.\n",
    "    <li><b>Book Markup Solution:</b> Providing solution based on exercise given previously.\n",
    "</ol>\n",
    "\n",
    "</fieldset>"
   ]
  },
  {
   "cell_type": "markdown",
   "metadata": {},
   "source": [
    "Source: \n",
    "* https://njkhanh.com/web-development\n",
    "* Frondendmaster bootcamp \"Introduction to HTML\" by Jen Kramer https://frontendmaster.com\n"
   ]
  }
 ],
 "metadata": {
  "kernelspec": {
   "display_name": "Python 3",
   "language": "python",
   "name": "python3"
  },
  "language_info": {
   "codemirror_mode": {
    "name": "ipython",
    "version": 3
   },
   "file_extension": ".py",
   "mimetype": "text/x-python",
   "name": "python",
   "nbconvert_exporter": "python",
   "pygments_lexer": "ipython3",
   "version": "3.11.5"
  },
  "orig_nbformat": 4
 },
 "nbformat": 4,
 "nbformat_minor": 2
}
