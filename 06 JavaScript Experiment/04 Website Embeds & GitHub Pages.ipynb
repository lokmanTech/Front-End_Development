{
 "cells": [
  {
   "cell_type": "markdown",
   "metadata": {},
   "source": [
    "# Website Embeds & GitHub Pages\n",
    "\n",
    "In this course, I will learn mor on how to leverage embedded web fonts and Google Mas into your web pages and how to host a website for free on GitHub Pages. Then, practice your new skills by creating a portfolio website. \n",
    "\n",
    "### Learning Outline\n",
    "\n",
    "<ol>\n",
    "    <strong>Embeds</strong>\n",
    "    <li><b>Web Fonts:</b> Discussing on resource for externally loading fonts.</li>\n",
    "    <li><b>Google Fonts:</b> Showcases another widely known font source, and demonstrates how to insert a font into the form.</li>\n",
    "    <li><b>Web Font Performance:</b> Instructor explain why it's important to limit the number of imported fonts on a webpage.</li>\n",
    "    <li><b>Embedding Google Maps:</b> Learn how to add an embedded map into a webpage.</li>\n",
    "    <li><b>Additional Embed Types:</b> discusses ways videos and other media can be added to a page using embed codes from an external host.</li>\n",
    "    <strong>GitHub Pages</strong>\n",
    "    <li><b>GitHub Setup:</b> Walks through creating a GitHub account and downloading GitHub Desktop, a GUI for GitHub.</li>\n",
    "    <li><b>Repository Setup:</b> Learn to create GitHub repository and their form files to it, and view their pages in the browser.</li>\n",
    "    <li><b>Troubleshooting:</b> Learn more on several common issues that may came up during the process from the previous lessons.</li>\n",
    "    <li><b>Review & Project Preview:</b> Summarize what we have learn and know that GitHub is one place to push our own portfolio.</li>\n",
    "    <strong>Portfolio</strong>\n",
    "    <li><b>Portfolio Exercise & Wrap-up:</b> wrapping up the courses.</li>\n",
    "    <li><b>Portfolio Example Solutions:</b> shows the few example from other candidates.</li>\n",
    "</ol>\n",
    "\n",
    "### Web Fonts - Google Fonts - Web Font Performance\n",
    "Typically every computer contain local font pre-installed in the system, howevere, the type of font might be different on each computer, or another case the special font require from the web. The famouse web font are from <a href=\"https://fontawesome.com\"><b>Font Awesome</b></a> or <a href=\"https://fonts.google.com\"><b>Google Font</b></a>. In terms, of designing ways which typically we using 2 fonts, which fair good enough not more than that. since the website might go heavy and lack of consistency.\n",
    "\n",
    "### Embedding Google Maps - Additional Embed Types\n",
    "\n",
    "We can embedded desired location to the website. Only few steps you can achieve it. First, determine the location once ready click button share. Second, click the embed a map. third, copy the link and paste into your HTML code. This embed technique might imposed for youtube video or etc.\n",
    "\n",
    "![Alt text](04%20HTML%20Forms%20Project/img/embedded_steps.png)\n",
    "\n",
    "### GitHub Setup\n",
    "\n",
    "Getting web pages online, might be a hassle, but nowadays, there dozens way to get post online for free. so how the website is works?\n",
    "<ol>\n",
    "    <li><b>Web Hosting:</b> with a web hosting provider. (For the simple site we're building, any web hosting provider will work!) This is also called a server.\n",
    "    <li><b>Domain Name:</b> As part of the hosting signup, we are required to purchase a domain name for your website. (alternatively, if you already have domain name, point the domain name to your new web hosting.)\n",
    "    <li><b>Tranferring Medium:</b> To maintain a website might be a hassle, thus, connector such FileZilla will help fast things up. Another ways, we can upload the docs via web browser on their hosting dashboard.\n",
    "</ol>\n",
    "\n",
    "<strong>Alternative, we can setup a free website pages</strong>\n",
    "\n",
    "<ol>\n",
    "    <li>Sign Up for GitHub</li>\n",
    "    <li>Download GitHub Desktop</li>\n",
    "    <li> Create a repository</li> a public repository that use from your https://[username].github.io then it will help to publish your own website. This website usually to present online portfolio."
   ]
  }
 ],
 "metadata": {
  "language_info": {
   "name": "python"
  },
  "orig_nbformat": 4
 },
 "nbformat": 4,
 "nbformat_minor": 2
}
