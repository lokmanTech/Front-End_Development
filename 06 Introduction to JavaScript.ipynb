{
 "cells": [
  {
   "cell_type": "markdown",
   "metadata": {},
   "source": [
    "# Introduction to JavaScript\n",
    "\n",
    "Learn the basics of JavaScript, like its primitives, how to control the flow of a program, what scope is and why it matters, and data structure that can  be used in programming. Then, practice your new skills in two exercises: by coding quiz questions that demonstrate important JavaScript concepts and making a set of tests written in JavaScripts pass. Finally, lean about the DOM, an essential part of building web pages.\n",
    "\n",
    "### Table of Contents\n",
    "\n",
    "<ol>\n",
    "    <strong>JavaScript Basics</strong>\n",
    "    <li><b>Introduction:</b> Brian Holt: JavaScript Instructor, introduction and sets expectations for the next section.</li>\n",
    "    <li><b>JavaScript Overview:</b> Starting the basics of JavaScript syntax.</li>\n",
    "    <li><b>Semicolon & Q&A:</b> We were discusses the usage of semicolons and the choice or 'var' versus 'const' and 'let' in JavaScript code.</li>\n",
    "    <li><b>Coding Conventions:</b> We were introduced JavaScript coding conventions, which is syntax that isn't necessarily required by the language, but makes code more readable to other programmers.</li>\n",
    "    <li><b>Writing Your First JavaScript:</b> We were walk through writing their first snippet of JavaScript code.</li>\n",
    "    <li><b>Developer Tools Console:</b> We were demonstrate how to test code using console.log and the developer tools console inside of a browser.</li>\n",
    "    <strong>Primites</strong>\n",
    "    <li><b>Strings:</b> We were introduced the string primitives data type.</li>\n",
    "    <li><b>Template Strings</b> Brian explains how to display JavaScript variables in strings using backticks instead of single or double qoutes.</li>\n",
    "    <li><b>Booleans:</b> We were introduced booleans, which are how true and false are handled in JavaScript.</li>\n",
    "    <li><b>Numbers:</b> Brian Introduces the number primitive data type and gives a few things to watch out when handling numbers.</li>\n",
    "    <strong>Control Flow & Loops:</strong>\n",
    "    <li><b>Control Flow:</b> We were introduced the concept of control flow, the order in which individual statements are evaluated.</li>\n",
    "    <li><b>Equality Comparisons:</b> We were demonstrated usage of the strict equality operator.</li>\n",
    "    <li><b>If Statement:</b> We begins implementing control and equality operators to carry out logic, starting out with an if statement expression.</li>\n",
    "    <li><b>Else If Statement:</b> Brian codes an 'else if' statement into the 'if' statement, an additional condition for determining evaluated statements.</li>\n",
    "    <li><b>Loops:</b> We were demonstrates how to implement a 'while' loop.</li>\n",
    "    <li><b>Adding Comments:</b> We were demonstated how to insert comments into JavaScript code.</li> \n",
    "    <li><b>Incrementing:</b> We received a examples of various ways to increment values in JavaScript.</li>\n",
    "    <li><b>Incrementing in Loops:</b> We were uses what was learned in the previous lesson to demonstrate how a 'for' loop is executed.</li>\n",
    "    <li><b>Looping Exercise:</b> Students are instructed to write a loop that prints a concatenated string to the console.</li>\n",
    "    <li><b>Looping Solution:</b> We were demonstrated one way of coding the solution.</li>\n",
    "    <strong>Function & Scope</strong>\n",
    "    <li><b>Function & Parameters</b> Brian illustrate example of functions in JavaScript and highlight key syntax details.</li>\n",
    "    <li><b>Scope:</b>Brian we introduces how scope makes functions useful in JavaScript.</li>\n",
    "    <li><b>Scope Example:</b> Brian walks through several examples where scoping rules effect the outcome.</li>\n",
    "    <li><b>Experimenting with Scope</b> Brian alters positions of variable references and declarations to help explain how scope affects outcomes.</li>\n",
    "    <strong>Builtins</strong>\n",
    "    <li><b>Builtins:</b> We were introduced builtin by teaching students how to utilize MDN as a valuable resource.</li>\n",
    "    <li><b>Math & Substr:</b> We were introduced additional commonly used math and string manipulation builtins.</li>\n",
    "    <strong>Quiz Exercise</strong>\n",
    "    <li><b>Quiz Exercise:</b> Students are instructed to construct quiz questions using JavaScript that implement functions, builtins, and other concepts learned so far.</li>\n",
    "    <li><b>Abstract Comparison:</b> We learned on the usage of the double equals comparison operator in JavaScript.</li>\n",
    "    <li><b>Quiz Exercise Solution with Strings:</b> Brian live code the solution to the exercise involving string manipulation.</li>\n",
    "    <li><b>Quiz Exercise Solution with Numbers:</b> Brian live codes the solution to the exercise involving mathematical opearations.</li>\n",
    "    <strong>Objects & Arrays</strong>\n",
    "    <li><b>Objects:</b> We were introduced the object data structure in JavaScript.</li>\n",
    "    <li><b>Context:</b> Brian explains the behavior of the 'this' keyword and related errors that commonly occur.</li>\n",
    "    <li><b>Global Objects:</b> Brian demonstrated usage of global objects, specifically the window object in the browser.</li>\n",
    "    <li><b>Arrays:</b> Brian introduces the array data structure in JavaScript.</li>\n",
    "    <li><b>Arrays Methods:</b> We delves into the methods that can be used to manipulate array data.</li>\n",
    "    <li><b>Types & Q&A:</b> We were informed that types can be declared using TypeScript and answer questions about the section so far.</li>\n",
    "    <li><b>Looping Over Arrays:</b> Brian walks through the process of looping over the elements in an array.</li>\n",
    "    <li><b>forEach Method</b> Brian codes a 'forEach' statement, and explains how to use a function as an input.</li>\n",
    "    <li><b>map Method:</b> Brian codes a map function and explain its usefulness.</li>\n",
    "    <li><b>sort Method:</b> Brian demonstrates usage of the sort function and introduces arrow functions.</li>\n",
    "    <li><b>Array Methods Q&A:</b> Brian discussed filtering and equality comparison in reference to array methods.</li>\n",
    "    <li><b>And & Or Operators:</b> We were introduced And & Or comparison operators for use in control flow statements.</li>\n",
    "    <strong>Testing Exercise</strong>\n",
    "    <li><b>Introduction to Testing:</b> Brian explains what development test are and why they are important.</li>\n",
    "    <li><b>Testing Exercise:</b> Brian demonstrates how to make a test pass, and students are instructed to do the same with the remaining tests.</li>\n",
    "    <li><b>Testing Solution with Arrays:</b> Brian live codes the array traversal section of the solution.</li>\n",
    "    <li><b>Testing Solution with Objects:</b> Brian live codes the two object array sections of the solutions.</li>\n",
    "    <li><b>Readibility and Performance Q&A:</b> Brian field in questions from students about code readability and performance in relation to previously learned methods.</li>\n",
    "    <li><b>Testing Solution with sort:</b> Brian live codes the sort section of the solution, giving various ways to succeed in solving the same problem.</li>\n",
    "    <strong>The DOM</strong>\n",
    "    <li><b>Introduction to the DOM:</b> Brian introduces the DOM by explaining the parts that make up a webpage.</li>\n",
    "    <li><b>Interacting with the DOM:</b> Brian provides instruction on how to work with CSS classes and IDs The browser developer tools are also examined.</li>\n",
    "    <li><b>Looping Over Query Results:</b> A questions is asked about how to use querySelectorAll to select multiple elements in the DOM and loop over them.</li>\n",
    "    <li><b>Interacting with a Webpage:</b> Brian outlines ways of interacting with a webpage through modifying classes on elements.</li>\n",
    "    <li><b>Events & Listeners:</b> Brian introduces events and listeners, which make webpages interactive. Screen readers are also discussed.</li>\n",
    "    <li><b>Keyup Event:</b> Brian introduces the event that occurs directly after a keyboard key is released, and gives potential use cases.</li>\n",
    "    <li><b>Event Delegation:</b> Brian defines event delegation and emphasize its usefulness through a code example.</li>"
   ]
  },
  {
   "cell_type": "markdown",
   "metadata": {},
   "source": [
    "## JavaScript: Unleashing the Power of Web Development\n",
    "\n",
    "In the ever-evolving world of technology, learning to code has become a valuable sill that can open doors to countless opportunities. Among the myriad of programming languages available, JavaScript stands out as a must-learn language, particularly for those interested in web development. In this blog post, we'll delve into the compelling reasons why you should consider learning JavaScript and explorer the numerous benefits it offers.\n",
    "\n",
    "<ol>\n",
    "    <li><b>Versatility in Web Development:</b> JavaScript is often referred to as the \"language of the web\" and for good reason. It is the backbone of modern web development, enabling dynamic and interactive websites. Whether you are interested in front-end development, back-end development or full stack development, JavaScript provides you with the foundation to work on a wide range of web projects.</li>\n",
    "    <li><b>High Demand in the Job Market:</b> The demand for JavaScript developers continues to soar. Companies worldwide are constantly seeking skilled JavaScript developers to enhance their online presence and create engaging user experiences. Learning JavaScript can significantly boost your employability, making you a valuable asset to potential employers.</li>\n",
    "    <li><b>Wide Range of Libraries and Frameworks:</b> JavaScript boasts a vast ecosystem of libraries and frameworks that simplify and accelerate web development. Popular front-end frameworks like React, Angular, And Vue.js are all based on JavaScript. These tools help streamline the development process and enable you to build powerful web application efficiently. By mastering JavaScript, you gain the ability to harness the capabilities of these frameworks.\n",
    "    <li><b>Cross-Platform Compatibility:</b> JavaScript's compatibility extends beyond just web browser. With technologies like Node.js you can use JavaScript to develop server-side applications, making it possible to create cross-platform solutions. This versatility allows you to build web applications, mobile apps, and even desktop applications using a single language.</li>\n",
    "    <li><b>Community and Resources:</b> JavaScript has a thriving and vibrant community. This means that there are abundant resources available to help you learn and grow as a developer. From online courses and tutorials to forums and developer coomunities, you will find plenty of support and guidance as you navigate your JavaScript learning journey.</li>\n",
    "    <li><b>Continuous Evolution:</b> JavaScript is not a stagnant language. It undergoes regular updates and improvements. As a JavaScript developer, you will be exposed to the latest trends and features, ensuring that your skills remain relevant and adaptable to emerging technologies.</li>\n",
    "    <li><b>Career Opportunities:</b> The skill you acquire while learning JavaScript extend beyond web development. You will gain problem-solving abilities, logical thinking, and a deeper understanding of programming concepts. These skills can be applied to a wide range of industries and career paths, from game development to data analysis.</li>\n",
    "    <li><b>A Gateway to Other Languages:</b> Once you grasp the fundamentals of JavaScript, transitioning to other programming languanges become more accessible. JavaScript's syntax shares similarities with many other languages, making it an excellent stepping stone for learning languages like Python, Ruby, or C#.\n",
    "</ol>\n",
    "\n",
    "In summary, web development plays a central role in our lives, learning JavaScript is a wise investment in your future. Its versatility, high demand, and extensive ecosystem make it an invaluable tool for aspiring developers. Moreover, JavaScript offers a gateway to a world of possibilities, from web and mobile app development to server-side scripting and beyond. So, whether you are looking to start new career or enhance your existing skill set, consider adding JavaScript to your toolkit and unlock the potential of web development.\n",
    "\n"
   ]
  },
  {
   "cell_type": "markdown",
   "metadata": {},
   "source": [
    "# JavaScript Fundamental\n",
    "\n",
    "Programming Fundamental, This workshop is optimizing for those totally new to coding and thus we assume no prior knowledge.\n",
    "\n",
    "### What is code?\n",
    "\n",
    "Code is for humans first and computers second. You can think of writing code as essentially writing notes on how to solve a particular problem that just happens to be in a way that computer can understand it. This is because, you or someone else will have to go back and re-read that code some time in the future, maybe tomorrow or maybe in ten years. As such, it's important to write code in a such way that it's easily understandable to someone with little context. You will spend far longer maintaining this code, that  you will writing it the first time. Be explicit, Be deliberate. The point here is not to be clever but to be simple and to communicate clearly. Code is communication.\n",
    "\n",
    "Now, given this, let's frame how this code works, then. When your write code, the computer breaks it down into smaller pieces it can understand and then executes those one bit at a time. With JavaScript, only one thing is ever happening at a time (this is called being <i>single threaded</i> but that is not a term you need to know.) In general, this means it executes line 1, then line 2, then line 3 etc. Let's put that in action: "
   ]
  },
  {
   "cell_type": "code",
   "execution_count": null,
   "metadata": {
    "vscode": {
     "languageId": "javascript"
    }
   },
   "outputs": [],
   "source": [
    "const monthlyRent = 500;\n",
    "\n",
    "const yearlyRent = monthlyRent * 12;\n",
    "console.log(yearlyRent);"
   ]
  },
  {
   "cell_type": "markdown",
   "metadata": {},
   "source": [
    "<fieldset>\n",
    "<legend><strong>Result:</strong></legend> \n",
    "6000\n",
    "</fieldset>"
   ]
  },
  {
   "cell_type": "markdown",
   "metadata": {},
   "source": [
    "The first thing that happens above is that we declare a variable, `monthlyRent`. The `JavaScript know we're declaring a variable. Variable names always have to know no spaces in them, which is why we squish the words \"monthly rent\" together. In order to make this more readable, we use what's called <i>camel casing</i>, so called because the capital letters in the middle make it look like humps on a camel. You can also use other styles of capitalization, there's no rule it must be camel case in JavaScript; everyone just happens to do came casing in JavaScript. \n",
    "\n",
    "Notice the `you've completed your thought. Think of this as the period/full-stop of the programming world.\n",
    "\n",
    "Variable can be called <i>almost</i> anything. You <b>can't</b> use keywords. An example would be `const const = 15`. `const` is a keyword so it can't be used as a variable name. You do want to give your variables good names. Imagine we have a huge file and 200 line below we see the variable name `monthlyRent`: we will know instantly what this variable does and we won't have to go try to read the code to figure it out. Always, always, always use good variable name. Seriously, Put time into it. Naming things is hard and it's a big part of your job.\n",
    "\n",
    "Okay, so after line one, I have a variable name `monthlyRent` that I can use as much as I want. In this case, it represents the number of `500` but it also semantically represents monthlyRent. Imagine if I had 1000 lines between where </span style=\"background-color: gray\">monthlyRent` is declared and where `yearlyRent` is calculated. I could have just put `500` directly in `yearlyRent` but I don't because I now understand how that's calculated just by reading the code. Use variables. Use them everywhere. It makes your code way easier to read. Also, later if my monthly rent changes, I can change it one place and everywhere I reference `monthlyRent` gets updated automatically. Powerful Stuff.\n",
    "\n",
    "Okay, I think calculate `yearlyRent` I use the `*` to represent multiplication. I'm also mixing variables and numbers which is just fine. I also could have said `const yearlyRent = monthlyRent * monthsInAYear ;` (assuming I put `const monthInAYear = 12;` somewhere else) too and that would be a good idea. I would argue the two are roughly the same since it's obvious there are 12 months in a year. But you do what you think is most clear. That's  your job.\n",
    "\n",
    "`console.log(yearlyRent);` is going to print whatever is stored in `yearlyRent` to the JavaScript console. The JavaScript console is a part of the dev tools. If you need help finding them, <a href=\"https://webmasters.stackexchange.com/questions/8285/how-do-i-open-the-javascript-console-in-different-browser\">see here</a>. We will explain how it works in a bit but for now just know that anything you put between the parenthesises gets logged out to your JavaScript console.\n",
    "\n",
    "Let's get this little snippet working in our browser. Make a new folder (I will just a put it on my desktop) and add an index.html file with the following in it:"
   ]
  },
  {
   "cell_type": "code",
   "execution_count": null,
   "metadata": {
    "vscode": {
     "languageId": "html"
    }
   },
   "outputs": [],
   "source": [
    "%%html\n",
    "\n",
    "<!DOCTYPE html>\n",
    "<html lang=\"en\">\n",
    "<head>\n",
    "    <meta charset=\"UTF-8\">\n",
    "    <meta name=\"viewport\" content=\"width=device-width, initial-scale=1.0\">\n",
    "    <title>JavaScript Experiment</title>\n",
    "</head>\n",
    "<body>\n",
    "    <h1>JavaScript Experiments!</h1>\n",
    "    <!--If want to show the result on the webpage, if must connect with HTML id\n",
    "        so, in this case we can insert <p id=\"result\"></p>, which \"result\" will fetch information from JS file-->\n",
    "    <script src=\"js/experiment.js\"></script>\n",
    "    \n",
    "</body>\n",
    "</html>"
   ]
  },
  {
   "cell_type": "markdown",
   "metadata": {},
   "source": [
    "The `script` tag is going to let us load JavaScript code into out HTML page. So, make another file in the folder called <span style=\"background-color\">js` then create a new file called `experiments.js` (it really can be called anything as long as the script tag matches it.) Then in that JS file put our code below:"
   ]
  },
  {
   "cell_type": "code",
   "execution_count": 13,
   "metadata": {
    "vscode": {
     "languageId": "javascript"
    }
   },
   "outputs": [
    {
     "name": "stdout",
     "output_type": "stream",
     "text": [
      "\u001b[33m6000\u001b[39m\n"
     ]
    }
   ],
   "source": [
    "%%script node\n",
    "// first code: to see the result on the console\n",
    "const monthlyRent = 500;\n",
    "\n",
    "const yearlyRent = monthlyRent * 12;\n",
    "console.log(yearlyRent)"
   ]
  },
  {
   "cell_type": "code",
   "execution_count": 12,
   "metadata": {
    "vscode": {
     "languageId": "javascript"
    }
   },
   "outputs": [
    {
     "name": "stderr",
     "output_type": "stream",
     "text": [
      "[stdin]:6\n",
      "const resultElement = document.getElementById(\"result\");\n",
      "                      ^\n",
      "\n",
      "ReferenceError: document is not defined\n",
      "    at [stdin]:6:23\n",
      "\u001b[90m    at Script.runInThisContext (node:vm:122:12)\u001b[39m\n",
      "\u001b[90m    at Object.runInThisContext (node:vm:296:38)\u001b[39m\n",
      "\u001b[90m    at node:internal/process/execution:83:21\u001b[39m\n",
      "    at [stdin]-wrapper:6:24\n",
      "\u001b[90m    at runScript (node:internal/process/execution:82:62)\u001b[39m\n",
      "\u001b[90m    at evalScript (node:internal/process/execution:104:10)\u001b[39m\n",
      "\u001b[90m    at node:internal/main/eval_stdin:31:5\u001b[39m\n",
      "\u001b[90m    at Socket.<anonymous> (node:internal/process/execution:205:5)\u001b[39m\n",
      "\u001b[90m    at Socket.emit (node:events:526:35)\u001b[39m\n",
      "\n",
      "Node.js v20.8.0\n"
     ]
    },
    {
     "ename": "CalledProcessError",
     "evalue": "Command 'b'// second code: to show the result on the webpage, which link with id=\"result\" on HTML file\\nconst monthlyRent = 500;\\nconst yearlyRent = monthlyRent * 12;\\n\\n// Find the HTML element with the id \"result\"\\nconst resultElement = document.getElementById(\"result\");\\n\\n// Update the content of the result element\\nresultElement.textContent = \\'Yearly Rent: RM \\' + yearlyRent;\\n'' returned non-zero exit status 1.",
     "output_type": "error",
     "traceback": [
      "\u001b[1;31m---------------------------------------------------------------------------\u001b[0m",
      "\u001b[1;31mCalledProcessError\u001b[0m                        Traceback (most recent call last)",
      "\u001b[1;32mc:\\Users\\User\\OneDrive - Alexander Poh Architect\\APA PROJECTS\\00 LOKMAN'S PERSONAL DOCS\\09 GITHUB PROJECTS\\Front-End_Development\\06 Introduction to JavaScript.ipynb Cell 10\u001b[0m line \u001b[0;36m1\n\u001b[1;32m----> <a href='vscode-notebook-cell:/c%3A/Users/User/OneDrive%20-%20Alexander%20Poh%20Architect/APA%20PROJECTS/00%20LOKMAN%27S%20PERSONAL%20DOCS/09%20GITHUB%20PROJECTS/Front-End_Development/06%20Introduction%20to%20JavaScript.ipynb#X12sZmlsZQ%3D%3D?line=0'>1</a>\u001b[0m get_ipython()\u001b[39m.\u001b[39;49mrun_cell_magic(\u001b[39m'\u001b[39;49m\u001b[39mscript\u001b[39;49m\u001b[39m'\u001b[39;49m, \u001b[39m'\u001b[39;49m\u001b[39mnode\u001b[39;49m\u001b[39m'\u001b[39;49m, \u001b[39m'\u001b[39;49m\u001b[39m// second code: to show the result on the webpage, which link with id=\u001b[39;49m\u001b[39m\"\u001b[39;49m\u001b[39mresult\u001b[39;49m\u001b[39m\"\u001b[39;49m\u001b[39m on HTML file\u001b[39;49m\u001b[39m\\n\u001b[39;49;00m\u001b[39mconst monthlyRent = 500;\u001b[39;49m\u001b[39m\\n\u001b[39;49;00m\u001b[39mconst yearlyRent = monthlyRent * 12;\u001b[39;49m\u001b[39m\\n\u001b[39;49;00m\u001b[39m\\n\u001b[39;49;00m\u001b[39m// Find the HTML element with the id \u001b[39;49m\u001b[39m\"\u001b[39;49m\u001b[39mresult\u001b[39;49m\u001b[39m\"\u001b[39;49m\u001b[39m\\n\u001b[39;49;00m\u001b[39mconst resultElement = document.getElementById(\u001b[39;49m\u001b[39m\"\u001b[39;49m\u001b[39mresult\u001b[39;49m\u001b[39m\"\u001b[39;49m\u001b[39m);\u001b[39;49m\u001b[39m\\n\u001b[39;49;00m\u001b[39m\\n\u001b[39;49;00m\u001b[39m// Update the content of the result element\u001b[39;49m\u001b[39m\\n\u001b[39;49;00m\u001b[39mresultElement.textContent = \u001b[39;49m\u001b[39m\\'\u001b[39;49;00m\u001b[39mYearly Rent: RM \u001b[39;49m\u001b[39m\\'\u001b[39;49;00m\u001b[39m + yearlyRent;\u001b[39;49m\u001b[39m\\n\u001b[39;49;00m\u001b[39m'\u001b[39;49m)\n",
      "File \u001b[1;32m~\\AppData\\Roaming\\Python\\Python311\\site-packages\\IPython\\core\\interactiveshell.py:2478\u001b[0m, in \u001b[0;36mInteractiveShell.run_cell_magic\u001b[1;34m(self, magic_name, line, cell)\u001b[0m\n\u001b[0;32m   2476\u001b[0m \u001b[39mwith\u001b[39;00m \u001b[39mself\u001b[39m\u001b[39m.\u001b[39mbuiltin_trap:\n\u001b[0;32m   2477\u001b[0m     args \u001b[39m=\u001b[39m (magic_arg_s, cell)\n\u001b[1;32m-> 2478\u001b[0m     result \u001b[39m=\u001b[39m fn(\u001b[39m*\u001b[39;49margs, \u001b[39m*\u001b[39;49m\u001b[39m*\u001b[39;49mkwargs)\n\u001b[0;32m   2480\u001b[0m \u001b[39m# The code below prevents the output from being displayed\u001b[39;00m\n\u001b[0;32m   2481\u001b[0m \u001b[39m# when using magics with decodator @output_can_be_silenced\u001b[39;00m\n\u001b[0;32m   2482\u001b[0m \u001b[39m# when the last Python token in the expression is a ';'.\u001b[39;00m\n\u001b[0;32m   2483\u001b[0m \u001b[39mif\u001b[39;00m \u001b[39mgetattr\u001b[39m(fn, magic\u001b[39m.\u001b[39mMAGIC_OUTPUT_CAN_BE_SILENCED, \u001b[39mFalse\u001b[39;00m):\n",
      "File \u001b[1;32m~\\AppData\\Roaming\\Python\\Python311\\site-packages\\IPython\\core\\magics\\script.py:314\u001b[0m, in \u001b[0;36mScriptMagics.shebang\u001b[1;34m(self, line, cell)\u001b[0m\n\u001b[0;32m    309\u001b[0m \u001b[39mif\u001b[39;00m args\u001b[39m.\u001b[39mraise_error \u001b[39mand\u001b[39;00m p\u001b[39m.\u001b[39mreturncode \u001b[39m!=\u001b[39m \u001b[39m0\u001b[39m:\n\u001b[0;32m    310\u001b[0m     \u001b[39m# If we get here and p.returncode is still None, we must have\u001b[39;00m\n\u001b[0;32m    311\u001b[0m     \u001b[39m# killed it but not yet seen its return code. We don't wait for it,\u001b[39;00m\n\u001b[0;32m    312\u001b[0m     \u001b[39m# in case it's stuck in uninterruptible sleep. -9 = SIGKILL\u001b[39;00m\n\u001b[0;32m    313\u001b[0m     rc \u001b[39m=\u001b[39m p\u001b[39m.\u001b[39mreturncode \u001b[39mor\u001b[39;00m \u001b[39m-\u001b[39m\u001b[39m9\u001b[39m\n\u001b[1;32m--> 314\u001b[0m     \u001b[39mraise\u001b[39;00m CalledProcessError(rc, cell)\n",
      "\u001b[1;31mCalledProcessError\u001b[0m: Command 'b'// second code: to show the result on the webpage, which link with id=\"result\" on HTML file\\nconst monthlyRent = 500;\\nconst yearlyRent = monthlyRent * 12;\\n\\n// Find the HTML element with the id \"result\"\\nconst resultElement = document.getElementById(\"result\");\\n\\n// Update the content of the result element\\nresultElement.textContent = \\'Yearly Rent: RM \\' + yearlyRent;\\n'' returned non-zero exit status 1."
     ]
    }
   ],
   "source": [
    "%%script node\n",
    "// second code: to show the result on the webpage, which link with id=\"result\" on HTML file\n",
    "const monthlyRent = 500;\n",
    "const yearlyRent = monthlyRent * 12;\n",
    "\n",
    "// Find the HTML element with the id \"result\"\n",
    "const resultElement = document.getElementById(\"result\");\n",
    "\n",
    "// Update the content of the result element\n",
    "resultElement.textContent = 'Yearly Rent: RM ' + yearlyRent;\n"
   ]
  },
  {
   "cell_type": "markdown",
   "metadata": {},
   "source": [
    "Now, if you open your <strong>HTML</strong> file, not the JS file, in your browser and open your console you should see the number `6000` being printed. Congrats! You just wrote your first code!"
   ]
  },
  {
   "cell_type": "markdown",
   "metadata": {},
   "source": [
    "![open-console](./07%20JavaScript%20Experiment/img/open-console.png)"
   ]
  },
  {
   "cell_type": "markdown",
   "metadata": {},
   "source": [
    "### Numbers, Strings, Booleans\n",
    "\n",
    "So far we have just dealt with numbers. As we go further, and start working with words and characters. In programming, we refer t these things are strings, as in a string of one-letter characters. An example of this would be:"
   ]
  },
  {
   "cell_type": "code",
   "execution_count": 10,
   "metadata": {
    "vscode": {
     "languageId": "javascript"
    }
   },
   "outputs": [
    {
     "name": "stdout",
     "output_type": "stream",
     "text": [
      "Lokman Hakim\n"
     ]
    }
   ],
   "source": [
    "%%script node\n",
    "const myName = \"Lokman Hakim\";\n",
    "console.log(myName);"
   ]
  },
  {
   "cell_type": "markdown",
   "metadata": {},
   "source": [
    "Result: Lokman Hakim\n",
    "\n",
    "You can see I use the \" (double quote) to enclose everything I want to be in string. In JavaScript you can also use '(single quote) and `(back tick) as well to demarcate strings.\n",
    "\n",
    "String, as you may imagine, are everywhere in programming. We are constantly keeping track of names, addresses, names of products, cities, etc. and thus constantly need strings.\n",
    "\n",
    "Let's go further, string le you connect them together through string concatenation. If I want to be able to greet someone based on their name, I might have something like this:"
   ]
  },
  {
   "cell_type": "code",
   "execution_count": 9,
   "metadata": {
    "vscode": {
     "languageId": "javascript"
    }
   },
   "outputs": [
    {
     "name": "stdout",
     "output_type": "stream",
     "text": [
      "Hello Lokman Hakim! How are you!?\n",
      "Hello Lokman Hakim! How are you!?\n"
     ]
    }
   ],
   "source": [
    "%%script node\n",
    "\n",
    "const firstName = \"Lokman\";\n",
    "const lastName = \"Hakim\";\n",
    "\n",
    "const sentence = \"Hello \" + firstName + \" \" + lastName + \"! How are you!?\"; //first line\n",
    "const sentenceWithTemplate = `Hello ${firstName} ${lastName}! How are you!?`; //second line\n",
    "\n",
    "console.log(sentence);\n",
    "console.log(sentenceWithTemplate);"
   ]
  },
  {
   "cell_type": "markdown",
   "metadata": {},
   "source": [
    "Result:\n",
    "\"Hello Lokman Hakim! How are you!?\"\n",
    "\"Hello Lokman Hakim! How are you!?\"\n",
    "\n",
    "The first way is the old way. We can use the `+` to tell JavaScript to connect two strings. Notice how we have insert the space between `firstName` and `lastName`. The computer only does exactly what you tell it to do. If you don't insert that space, it doesn't get put there.\n",
    "\n",
    "The second line is the new way of doing this. JavaScript got a large update in 2015 and it made things a lot easier. Now you can use the back tick (notice the first uses a double quote, you must use back ticks to do template strings) to do template strings. If you do that, anything inside of `${yourVariableHere}` gets output in string.\n",
    "\n",
    "### Booleans\n",
    "\n",
    "Sometimes yu just need a simple true or false. These are where booleans are useful. Something like a light switch's state is best represented by a boolean. A light is etiher on (true) or off (false). You will have something like `const lightIsOn = true`. Useful and you will see them everywhere.\n",
    "\n",
    "### Number\n",
    "\n",
    "Some languages separate integers (whole numbers, like 1, 2, 3, 4, 500, 1000) and floats (1.2, 3.14159, 14.01, etc) differently but not JavaScript. JavaScript just has one type of number, Number. A number is a number.\n",
    "\n",
    "## Control Flow\n",
    "\n",
    "Sometimes I want to modify the flow of how my program works, or in other words, some time I only want to run code if some condition is true. This is where `if` statements are very useful. Imagine if we tried this."
   ]
  },
  {
   "cell_type": "code",
   "execution_count": 8,
   "metadata": {
    "vscode": {
     "languageId": "javascript"
    }
   },
   "outputs": [
    {
     "name": "stdout",
     "output_type": "stream",
     "text": [
      "The sky is blue!\n"
     ]
    }
   ],
   "source": [
    "%%script node\n",
    "\n",
    "const skyIsBlue = true;\n",
    "\n",
    "if (skyIsBlue) {\n",
    "    console.log (\"The sky is blue!\");\n",
    "} else {\n",
    "    console.log(\"The sky is orange?\");\n",
    "}"
   ]
  },
  {
   "cell_type": "markdown",
   "metadata": {},
   "source": [
    "In the above example, the conditions inside of the parents is evaluated and if it's true, the first block is run and the second is skipped. If it is false, the second block is run and the first block is skipped. Paste that code into your experiments and play with it. You also do not have to have an else block.\n",
    "\n",
    "Okay, let's go further."
   ]
  },
  {
   "cell_type": "code",
   "execution_count": 7,
   "metadata": {
    "vscode": {
     "languageId": "javascript"
    }
   },
   "outputs": [
    {
     "name": "stdout",
     "output_type": "stream",
     "text": [
      "Oh thank god, the fundamental principles of mathematics still hold true.\n"
     ]
    }
   ],
   "source": [
    "%%script node\n",
    "\n",
    "if (2 + 2 === 4) {\n",
    "    console.log(\n",
    "        \"Oh thank god, the fundamental principles of mathematics still hold true.\"\n",
    "    );\n",
    "} else {\n",
    "    console.log(\"Well, it's time for new einstein...\");\n",
    "}"
   ]
  },
  {
   "cell_type": "code",
   "execution_count": 6,
   "metadata": {
    "vscode": {
     "languageId": "javascript"
    }
   },
   "outputs": [
    {
     "name": "stderr",
     "output_type": "stream",
     "text": [
      "[stdin]:4\n",
      "if (friendsAtYourParty === 0) {\n",
      "^\n",
      "\n",
      "ReferenceError: friendsAtYourParty is not defined\n",
      "    at [stdin]:4:1\n",
      "\u001b[90m    at Script.runInThisContext (node:vm:122:12)\u001b[39m\n",
      "\u001b[90m    at Object.runInThisContext (node:vm:296:38)\u001b[39m\n",
      "\u001b[90m    at node:internal/process/execution:83:21\u001b[39m\n",
      "    at [stdin]-wrapper:6:24\n",
      "\u001b[90m    at runScript (node:internal/process/execution:82:62)\u001b[39m\n",
      "\u001b[90m    at evalScript (node:internal/process/execution:104:10)\u001b[39m\n",
      "\u001b[90m    at node:internal/main/eval_stdin:31:5\u001b[39m\n",
      "\u001b[90m    at Socket.<anonymous> (node:internal/process/execution:205:5)\u001b[39m\n",
      "\u001b[90m    at Socket.emit (node:events:526:35)\u001b[39m\n",
      "\n",
      "Node.js v20.8.0\n"
     ]
    },
    {
     "ename": "CalledProcessError",
     "evalue": "Command 'b'\\nconst friendAtYourParty = 10;\\n\\nif (friendsAtYourParty === 0) {\\n    console.log(\"Cool, now I have a lot of nachos to myself.\");\\n} else if  (friendAtYourParty > 4) {\\n    console.log(\"Perfect amount to play some Mario Kart\");\\n} else {\\n    console.log(\"Wooo turn on the dance music!\");\\n}\\n'' returned non-zero exit status 1.",
     "output_type": "error",
     "traceback": [
      "\u001b[1;31m---------------------------------------------------------------------------\u001b[0m",
      "\u001b[1;31mCalledProcessError\u001b[0m                        Traceback (most recent call last)",
      "\u001b[1;32mc:\\Users\\User\\OneDrive - Alexander Poh Architect\\APA PROJECTS\\00 LOKMAN'S PERSONAL DOCS\\09 GITHUB PROJECTS\\Front-End_Development\\06 Introduction to JavaScript.ipynb Cell 22\u001b[0m line \u001b[0;36m1\n\u001b[1;32m----> <a href='vscode-notebook-cell:/c%3A/Users/User/OneDrive%20-%20Alexander%20Poh%20Architect/APA%20PROJECTS/00%20LOKMAN%27S%20PERSONAL%20DOCS/09%20GITHUB%20PROJECTS/Front-End_Development/06%20Introduction%20to%20JavaScript.ipynb#X30sZmlsZQ%3D%3D?line=0'>1</a>\u001b[0m get_ipython()\u001b[39m.\u001b[39;49mrun_cell_magic(\u001b[39m'\u001b[39;49m\u001b[39mscript\u001b[39;49m\u001b[39m'\u001b[39;49m, \u001b[39m'\u001b[39;49m\u001b[39mnode\u001b[39;49m\u001b[39m'\u001b[39;49m, \u001b[39m'\u001b[39;49m\u001b[39m\\n\u001b[39;49;00m\u001b[39mconst friendAtYourParty = 10;\u001b[39;49m\u001b[39m\\n\u001b[39;49;00m\u001b[39m\\n\u001b[39;49;00m\u001b[39mif (friendsAtYourParty === 0) \u001b[39;49m\u001b[39m{\u001b[39;49m\u001b[39m\\n\u001b[39;49;00m\u001b[39m    console.log(\u001b[39;49m\u001b[39m\"\u001b[39;49m\u001b[39mCool, now I have a lot of nachos to myself.\u001b[39;49m\u001b[39m\"\u001b[39;49m\u001b[39m);\u001b[39;49m\u001b[39m\\n\u001b[39;49;00m\u001b[39m} else if  (friendAtYourParty > 4) \u001b[39;49m\u001b[39m{\u001b[39;49m\u001b[39m\\n\u001b[39;49;00m\u001b[39m    console.log(\u001b[39;49m\u001b[39m\"\u001b[39;49m\u001b[39mPerfect amount to play some Mario Kart\u001b[39;49m\u001b[39m\"\u001b[39;49m\u001b[39m);\u001b[39;49m\u001b[39m\\n\u001b[39;49;00m\u001b[39m} else \u001b[39;49m\u001b[39m{\u001b[39;49m\u001b[39m\\n\u001b[39;49;00m\u001b[39m    console.log(\u001b[39;49m\u001b[39m\"\u001b[39;49m\u001b[39mWooo turn on the dance music!\u001b[39;49m\u001b[39m\"\u001b[39;49m\u001b[39m);\u001b[39;49m\u001b[39m\\n\u001b[39;49;00m\u001b[39m}\u001b[39;49m\u001b[39m\\n\u001b[39;49;00m\u001b[39m'\u001b[39;49m)\n",
      "File \u001b[1;32m~\\AppData\\Roaming\\Python\\Python311\\site-packages\\IPython\\core\\interactiveshell.py:2478\u001b[0m, in \u001b[0;36mInteractiveShell.run_cell_magic\u001b[1;34m(self, magic_name, line, cell)\u001b[0m\n\u001b[0;32m   2476\u001b[0m \u001b[39mwith\u001b[39;00m \u001b[39mself\u001b[39m\u001b[39m.\u001b[39mbuiltin_trap:\n\u001b[0;32m   2477\u001b[0m     args \u001b[39m=\u001b[39m (magic_arg_s, cell)\n\u001b[1;32m-> 2478\u001b[0m     result \u001b[39m=\u001b[39m fn(\u001b[39m*\u001b[39;49margs, \u001b[39m*\u001b[39;49m\u001b[39m*\u001b[39;49mkwargs)\n\u001b[0;32m   2480\u001b[0m \u001b[39m# The code below prevents the output from being displayed\u001b[39;00m\n\u001b[0;32m   2481\u001b[0m \u001b[39m# when using magics with decodator @output_can_be_silenced\u001b[39;00m\n\u001b[0;32m   2482\u001b[0m \u001b[39m# when the last Python token in the expression is a ';'.\u001b[39;00m\n\u001b[0;32m   2483\u001b[0m \u001b[39mif\u001b[39;00m \u001b[39mgetattr\u001b[39m(fn, magic\u001b[39m.\u001b[39mMAGIC_OUTPUT_CAN_BE_SILENCED, \u001b[39mFalse\u001b[39;00m):\n",
      "File \u001b[1;32m~\\AppData\\Roaming\\Python\\Python311\\site-packages\\IPython\\core\\magics\\script.py:314\u001b[0m, in \u001b[0;36mScriptMagics.shebang\u001b[1;34m(self, line, cell)\u001b[0m\n\u001b[0;32m    309\u001b[0m \u001b[39mif\u001b[39;00m args\u001b[39m.\u001b[39mraise_error \u001b[39mand\u001b[39;00m p\u001b[39m.\u001b[39mreturncode \u001b[39m!=\u001b[39m \u001b[39m0\u001b[39m:\n\u001b[0;32m    310\u001b[0m     \u001b[39m# If we get here and p.returncode is still None, we must have\u001b[39;00m\n\u001b[0;32m    311\u001b[0m     \u001b[39m# killed it but not yet seen its return code. We don't wait for it,\u001b[39;00m\n\u001b[0;32m    312\u001b[0m     \u001b[39m# in case it's stuck in uninterruptible sleep. -9 = SIGKILL\u001b[39;00m\n\u001b[0;32m    313\u001b[0m     rc \u001b[39m=\u001b[39m p\u001b[39m.\u001b[39mreturncode \u001b[39mor\u001b[39;00m \u001b[39m-\u001b[39m\u001b[39m9\u001b[39m\n\u001b[1;32m--> 314\u001b[0m     \u001b[39mraise\u001b[39;00m CalledProcessError(rc, cell)\n",
      "\u001b[1;31mCalledProcessError\u001b[0m: Command 'b'\\nconst friendAtYourParty = 10;\\n\\nif (friendsAtYourParty === 0) {\\n    console.log(\"Cool, now I have a lot of nachos to myself.\");\\n} else if  (friendAtYourParty > 4) {\\n    console.log(\"Perfect amount to play some Mario Kart\");\\n} else {\\n    console.log(\"Wooo turn on the dance music!\");\\n}\\n'' returned non-zero exit status 1."
     ]
    }
   ],
   "source": [
    "%%script node\n",
    "\n",
    "const friendAtYourParty = 10;\n",
    "\n",
    "if (friendsAtYourParty === 0) {\n",
    "    console.log(\"Cool, now I have a lot of nachos to myself.\");\n",
    "} else if  (friendAtYourParty > 4) {\n",
    "    console.log(\"Perfect amount to play some Mario Kart\");\n",
    "} else {\n",
    "    console.log(\"Wooo turn on the dance music!\");\n",
    "}\n"
   ]
  },
  {
   "cell_type": "markdown",
   "metadata": {},
   "source": [
    "This also demonstrates the `else if` if you have more than just two different conditions.\n",
    "\n",
    "### Loops\n",
    "\n",
    "Okay so now what if I want do one thing multiple times? I could do something like this"
   ]
  },
  {
   "cell_type": "code",
   "execution_count": 5,
   "metadata": {
    "vscode": {
     "languageId": "javascript"
    }
   },
   "outputs": [
    {
     "name": "stdout",
     "output_type": "stream",
     "text": [
      "\u001b[33m10\u001b[39m\n"
     ]
    }
   ],
   "source": [
    "%%script node\n",
    "\n",
    "let friendAtYourParty = 0;\n",
    "friendAtYourParty = friendAtYourParty + 1;\n",
    "friendAtYourParty = friendAtYourParty + 1;\n",
    "friendAtYourParty = friendAtYourParty + 1;\n",
    "friendAtYourParty = friendAtYourParty + 1;\n",
    "friendAtYourParty = friendAtYourParty + 1;\n",
    "friendAtYourParty = friendAtYourParty + 1;\n",
    "friendAtYourParty = friendAtYourParty + 1;\n",
    "friendAtYourParty = friendAtYourParty + 1;\n",
    "friendAtYourParty = friendAtYourParty + 1;\n",
    "friendAtYourParty = friendAtYourParty + 1;\n",
    "console.log(friendAtYourParty);"
   ]
  },
  {
   "cell_type": "markdown",
   "metadata": {},
   "source": [
    "That's annoying though. I wish there was a better way. Before we explore that, let's chat about this example a tad more.\n",
    "\n",
    "We used  `let` instead of `const`. Things that are `const` can't be reassigned later. In general I find this be of minor help but others do not so I leave you to make your own judgement call. In general one should try to follow the \"principle of least power\". You should always choose the least powerful \"thing\" to accomplish whatever you are trying to do. Things with less power tend to be simpler and simple things are less prone to having or causing bugs. We instead `let` here because you can see on the subsequent lines we do reassign `friendAtYourParty` to be different number. If you used `const` your code would crash because `const` won't let you do that. Thus here we use `let`. There's another one called `var` that is the old way of doing JavaScript. There are differences but I don't see a reaso to use `var` at all anymore. It behaves more similar to `let`.\n",
    "\n",
    "Okay so, we want to do this better, let's explore a few ways to do that using loops."
   ]
  },
  {
   "cell_type": "code",
   "execution_count": 4,
   "metadata": {
    "vscode": {
     "languageId": "javascript"
    }
   },
   "outputs": [
    {
     "name": "stdout",
     "output_type": "stream",
     "text": [
      "\u001b[33m10\u001b[39m\n"
     ]
    }
   ],
   "source": [
    "%%script node\n",
    "let friendAtYourParty = 0;\n",
    "while (friendAtYourParty < 10) {\n",
    "    friendAtYourParty = friendAtYourParty + 1;\n",
    "}\n",
    "console.log(friendAtYourParty);"
   ]
  },
  {
   "cell_type": "markdown",
   "metadata": {},
   "source": [
    "Thi is a while loop. The first part works similar to an `if` statement: as long as what's inside that statement is <b>true</b> it will continue runner and re-running the body (what's between the { }) until that statement is false, it will break the loop continue on. This case, we add 1 to `friendAtYourParty` until it's 10, and then the next loop, when it's 10 it will stop because 10 is not less than 10.\n",
    "\n",
    "Also, let's just show you a few shortcuts for adding one to a thing"
   ]
  },
  {
   "cell_type": "code",
   "execution_count": 2,
   "metadata": {
    "vscode": {
     "languageId": "javascript"
    }
   },
   "outputs": [
    {
     "name": "stdout",
     "output_type": "stream",
     "text": [
      "\u001b[33m4\u001b[39m\n"
     ]
    }
   ],
   "source": [
    "%%script node\n",
    "let friendAtYourParty = 0;\n",
    "friendAtYourParty = friendAtYourParty + 1;\n",
    "friendAtYourParty += 1;\n",
    "friendAtYourParty++;\n",
    "++friendAtYourParty;\n",
    "console.log(friendAtYourParty);"
   ]
  },
  {
   "cell_type": "markdown",
   "metadata": {},
   "source": [
    "Those four lines are equivalent. They all do the exact same thing: they add one to the existing total. The second one, the plus-equals line, you can put any number there and it will add that amount to total, so `friendAtYourParty += 15;` would add 15 to the total. It also works with `-=` (subtraction) as well as `*=` (multiplication) `/=` (division) and `**=` (exponent). Two last two line (`++` before or after) just signify add one. They more or less mean the same thing (there's a subtle different of <i>when</i> it adds on that should never matter to you) but suffice to say everyone in the JavaScript community <i>always</i> does the `++` after; I've never seen anyone do it before in JavaScript.\n",
    "\n",
    "Okay, so now let's see a second kind of loop to achieve the same effect as above."
   ]
  },
  {
   "cell_type": "code",
   "execution_count": 1,
   "metadata": {
    "vscode": {
     "languageId": "javascript"
    }
   },
   "outputs": [
    {
     "name": "stdout",
     "output_type": "stream",
     "text": [
      "\u001b[33m10\u001b[39m\n"
     ]
    }
   ],
   "source": [
    "%%script node\n",
    "let friendAtYourParty = 0;\n",
    "for (let i = 0; i < 10; i++) {\n",
    "    friendAtYourParty++;\n",
    "}\n",
    "console.log(friendAtYourParty);"
   ]
  },
  {
   "cell_type": "markdown",
   "metadata": {},
   "source": [
    "This is a for loop which is likely the most common kind of loop. Inside the parens are three statements and you need all of them. The `let i = 0;` is you defining your control variable that will control the loop. For some reason people always use `i`, not sure why. It's just that way. It really could be anything. The second statement `i <= 10` is just like the while loop, is that's the statement that is as soon as it's false it breaks the loop. The last statement, `i++` is that happens at the end of every loop. In our case, we increment the control variable `i` so that it creeps closer to the end of the loop each time.\n",
    "\n",
    "An important note: in coding, we start counting from 0. In math, we count `1, 2, 3, 4, 5, etc.` but in coding we count `0, 1, 2, 3, 4, etc.` So, the fifth element of a string is index 4 (where index is how we will refer to where that item is in the string). Index 0 is the first element. It's weird but you get to used to it and it makes a lot of things easier.\n",
    "\n",
    "Sometimes, if you mess up what's inside the control condition for the loop, you will get a runaway loop that will never complete. This is called an <b>infinite loop</b> and it will lock up and crash your code. Something like this:"
   ]
  },
  {
   "cell_type": "markdown",
   "metadata": {},
   "source": [
    "DON'T RUN THIS CODE BELOW!!"
   ]
  },
  {
   "cell_type": "code",
   "execution_count": 17,
   "metadata": {
    "vscode": {
     "languageId": "javascript"
    }
   },
   "outputs": [],
   "source": [
    "%%script node\n",
    "let friendAtYourParty = 1;\n",
    "while (friendAtYourParty > 0) {\n",
    "    friendAtYourParty = friendAtYourParty + 1;\n",
    "}\n",
    "console.log(friendAtYourParty);"
   ]
  },
  {
   "cell_type": "markdown",
   "metadata": {},
   "source": [
    "Since you are adding one to `friendAtYourParty` each time, and the loop will continue each time until it's less than zero, that condition will never happen. Thus, it will continue going until it crashes your code. Be careful of these, Nasty Bugs."
   ]
  },
  {
   "cell_type": "markdown",
   "metadata": {},
   "source": [
    "# JavaScript Bootcamp by Brian Holt from Front End Master Bootcamp\n",
    "\n",
    "<strong>JavaScript Basics</strong>\n",
    "\n",
    "1. Introduction section by Brian Holt \n",
    "\n",
    "Brian Holt introduces himself, Study outlines, and resources\n",
    "\n",
    "2. JavaScript Overview\n",
    "\n",
    "Brian explaining overview of what is JavaScript\n",
    "he explained that only 1 thing happen at one time that in general they called it procedural.\n",
    "\n",
    "<p><b>tagging</b></p>\n",
    "<ul>\n",
    "    <li>const = is the fixed variable</li>\n",
    "    <li>let = variable can be reassigned it later</li>\n",
    "    <li>var = variable is the old type of variable</li>\n",
    "    <li>class =</li>\n",
    "    <li>for = </li>\n",
    "    <li>with = </li>\n",
    "</ul>\n",
    "\n",
    "<p><b>presentation</b></p>\n",
    "<ul>\n",
    "    <li>yourVariable = Camel Casing usually use in JavaScript since when code the cant separate the sentence since the program will catch that is different variable</li>\n",
    "    <li>your_variable = snake casing usually use in Phyton, which is similar case use as above, but use in different programming.</li>\n",
    "    <li>; = the semicolon is to inform the system that we have finish the line of code</li>\n",
    "    <li>const const = system error, the system only fetch one tag per line of code, line of code will end with semicolon</li>\n",
    "</ul>\n",
    "\n",
    "3. Semicolons \n",
    "\n",
    "the semicolons in JavaScript is like '.' or period after we finished the thought. However, due to recent updates on JavaScript system, it is optionally to place on JavaScript since current update they have auto-semicolon insertion (ASI). But, it is up to you how you handle your code.\n",
    "\n",
    "<p> What is Auto-Semicolon Insertion (ASI)?\n",
    "<p> In JavaScript, ASI is a feature that automatically inserts semicolons at the end of a line when the code is parsed if they are missing. JavaScript uses semicolons to separate statements, but in some cases, they can be omitted, and ASI will insert them to make the code valid. However, relying on ASI can lead to unexpected behavior, so it's generally recommended to include semicolons explicitly in your JavaScript code.\n",
    "\n",
    "In Javascript doesn't have any differentiation between numbers, since it considers it numbers.\n",
    "\n",
    "4. Coding Conventions\n",
    "\n",
    "we can't insert two tagging code for example `const let` and using only camel cassing when code the JavaScript to avoid your future self get confuse\n",
    "\n",
    "5. Writing My First JavaScript\n",
    "<p>------ JavaScript Experiment --------</p>\n",
    "</ol>\n",
    "    <li><a href=\"./07 JavaScript Experiment/index.html\">index.html</a></li>\n",
    "    <li><a href=\"./07 JavaScript Experiment/js/experiments.js\">experiments.js</a></li>\n",
    "</ol>\n",
    "\n",
    "In JavaScript it is preferable to code outside of the HTML file. \n",
    "\n",
    "6. Developer Tools Console\n",
    "\n",
    "<p>Console is where you see the output of your coding. You can go to your favorite browser, right click, click inspect, find tab console or Command+Shift+J (mac) or Ctrl+Shift+J.\n",
    "<p>Console is very handy tools that you will work with the most when working on JavaScript.\n",
    "<p>Debugging means, repair our own problem that broken because of our mistake.\n",
    "\n",
    "Executing to the console\n",
    "<p>console.log( yourVariableOne) ; \n",
    "<p>// the output = yourVariableOne\n",
    "\n",
    "<p>console.log( yourVariableOne, yourVariableTwo) ; \n",
    "<p>// the output = yourVariableOne yourVariableTwo\n",
    "\n",
    "<p>console.log (yourVariableOne);\n",
    "<p>console.log (yourVariableTwo);\n",
    "\n",
    "<p>// the output \n",
    "<p>yourVariableOne\n",
    "<p>yourVariableTwo\n",
    "\n",
    "<strong>Primitives</strong>\n",
    "\n",
    "7. Strings\n",
    "\n",
    "<p> conts myName = \"Lokman Hakim\"\n",
    "<p> myName = \"\" called the string in code\n",
    "\n",
    "8. Booleans\n",
    "\n",
    "showing the result between true or false questions\n",
    "\n",
    "9. Numbers\n",
    "\n",
    "numbers in JavaScript will show exactlt as what you wrote on your code. All other languages splitting between whole number and integers but not in JavaScript. it consider all number\n",
    "\n",
    "10. Control Flow\n",
    "\n",
    "In programming coding, they will have follow everything in order. for example your code 3 line. the programme will execute one by one, code 1 line, 2 line 3 line, however depends on type of your execution if boolean involve in this procedural, one of them might skipped.\n",
    "\n",
    "11. Equality Comparisons\n",
    "\n",
    "<p> const myVariable = 10\n",
    "<p> if (2 + 2 === 4) {} //you asking in system that 2+2 is 4?"
   ]
  },
  {
   "cell_type": "code",
   "execution_count": 16,
   "metadata": {
    "vscode": {
     "languageId": "javascript"
    }
   },
   "outputs": [
    {
     "name": "stdout",
     "output_type": "stream",
     "text": [
      "Hoorah! Math still works\n"
     ]
    }
   ],
   "source": [
    "%%script node\n",
    "    const myVariable = 10\n",
    "\n",
    "if (2+2 === 4) {\n",
    "    console.log(\"Hoorah! Math still works\");\n",
    "} else {\n",
    "    console.log(\"Uh, panic?\");\n",
    "}"
   ]
  },
  {
   "cell_type": "markdown",
   "metadata": {},
   "source": [
    "12. If Statement\n",
    "\n",
    "if statement, most of might connected more with booleans. \n",
    "\n"
   ]
  },
  {
   "cell_type": "code",
   "execution_count": 15,
   "metadata": {
    "vscode": {
     "languageId": "javascript"
    }
   },
   "outputs": [
    {
     "name": "stderr",
     "output_type": "stream",
     "text": [
      "[stdin]:3\n",
      "if (friendAtYourParty === 0) {\n",
      "^\n",
      "\n",
      "ReferenceError: friendAtYourParty is not defined\n",
      "    at [stdin]:3:1\n",
      "\u001b[90m    at Script.runInThisContext (node:vm:122:12)\u001b[39m\n",
      "\u001b[90m    at Object.runInThisContext (node:vm:296:38)\u001b[39m\n",
      "\u001b[90m    at node:internal/process/execution:83:21\u001b[39m\n",
      "    at [stdin]-wrapper:6:24\n",
      "\u001b[90m    at runScript (node:internal/process/execution:82:62)\u001b[39m\n",
      "\u001b[90m    at evalScript (node:internal/process/execution:104:10)\u001b[39m\n",
      "\u001b[90m    at node:internal/main/eval_stdin:31:5\u001b[39m\n",
      "\u001b[90m    at Socket.<anonymous> (node:internal/process/execution:205:5)\u001b[39m\n",
      "\u001b[90m    at Socket.emit (node:events:526:35)\u001b[39m\n",
      "\n",
      "Node.js v20.8.0\n"
     ]
    },
    {
     "ename": "CalledProcessError",
     "evalue": "Command 'b'const friendsAtYourParty = 10;\\n\\nif (friendAtYourParty === 0) {\\n    console.log (\"Cool, now I have a all the nachos to myself\");\\n} else if (friendsAtYourParty >= 4){\\n    console.log (\"Perfect amount to play some Mario Kart\");\\n} else { \\n    console.loy (\"Wooooo, play the dance music\");\\n}\\n'' returned non-zero exit status 1.",
     "output_type": "error",
     "traceback": [
      "\u001b[1;31m---------------------------------------------------------------------------\u001b[0m",
      "\u001b[1;31mCalledProcessError\u001b[0m                        Traceback (most recent call last)",
      "\u001b[1;32mc:\\Users\\User\\OneDrive - Alexander Poh Architect\\APA PROJECTS\\00 LOKMAN'S PERSONAL DOCS\\09 GITHUB PROJECTS\\Front-End_Development\\06 Introduction to JavaScript.ipynb Cell 37\u001b[0m line \u001b[0;36m1\n\u001b[1;32m----> <a href='vscode-notebook-cell:/c%3A/Users/User/OneDrive%20-%20Alexander%20Poh%20Architect/APA%20PROJECTS/00%20LOKMAN%27S%20PERSONAL%20DOCS/09%20GITHUB%20PROJECTS/Front-End_Development/06%20Introduction%20to%20JavaScript.ipynb#X51sZmlsZQ%3D%3D?line=0'>1</a>\u001b[0m get_ipython()\u001b[39m.\u001b[39;49mrun_cell_magic(\u001b[39m'\u001b[39;49m\u001b[39mscript\u001b[39;49m\u001b[39m'\u001b[39;49m, \u001b[39m'\u001b[39;49m\u001b[39mnode\u001b[39;49m\u001b[39m'\u001b[39;49m, \u001b[39m'\u001b[39;49m\u001b[39mconst friendsAtYourParty = 10;\u001b[39;49m\u001b[39m\\n\u001b[39;49;00m\u001b[39m\\n\u001b[39;49;00m\u001b[39mif (friendAtYourParty === 0) \u001b[39;49m\u001b[39m{\u001b[39;49m\u001b[39m\\n\u001b[39;49;00m\u001b[39m    console.log (\u001b[39;49m\u001b[39m\"\u001b[39;49m\u001b[39mCool, now I have a all the nachos to myself\u001b[39;49m\u001b[39m\"\u001b[39;49m\u001b[39m);\u001b[39;49m\u001b[39m\\n\u001b[39;49;00m\u001b[39m} else if (friendsAtYourParty >= 4)\u001b[39;49m\u001b[39m{\u001b[39;49m\u001b[39m\\n\u001b[39;49;00m\u001b[39m    console.log (\u001b[39;49m\u001b[39m\"\u001b[39;49m\u001b[39mPerfect amount to play some Mario Kart\u001b[39;49m\u001b[39m\"\u001b[39;49m\u001b[39m);\u001b[39;49m\u001b[39m\\n\u001b[39;49;00m\u001b[39m} else \u001b[39;49m\u001b[39m{\u001b[39;49m\u001b[39m \u001b[39;49m\u001b[39m\\n\u001b[39;49;00m\u001b[39m    console.loy (\u001b[39;49m\u001b[39m\"\u001b[39;49m\u001b[39mWooooo, play the dance music\u001b[39;49m\u001b[39m\"\u001b[39;49m\u001b[39m);\u001b[39;49m\u001b[39m\\n\u001b[39;49;00m\u001b[39m}\u001b[39;49m\u001b[39m\\n\u001b[39;49;00m\u001b[39m'\u001b[39;49m)\n",
      "File \u001b[1;32m~\\AppData\\Roaming\\Python\\Python311\\site-packages\\IPython\\core\\interactiveshell.py:2478\u001b[0m, in \u001b[0;36mInteractiveShell.run_cell_magic\u001b[1;34m(self, magic_name, line, cell)\u001b[0m\n\u001b[0;32m   2476\u001b[0m \u001b[39mwith\u001b[39;00m \u001b[39mself\u001b[39m\u001b[39m.\u001b[39mbuiltin_trap:\n\u001b[0;32m   2477\u001b[0m     args \u001b[39m=\u001b[39m (magic_arg_s, cell)\n\u001b[1;32m-> 2478\u001b[0m     result \u001b[39m=\u001b[39m fn(\u001b[39m*\u001b[39;49margs, \u001b[39m*\u001b[39;49m\u001b[39m*\u001b[39;49mkwargs)\n\u001b[0;32m   2480\u001b[0m \u001b[39m# The code below prevents the output from being displayed\u001b[39;00m\n\u001b[0;32m   2481\u001b[0m \u001b[39m# when using magics with decodator @output_can_be_silenced\u001b[39;00m\n\u001b[0;32m   2482\u001b[0m \u001b[39m# when the last Python token in the expression is a ';'.\u001b[39;00m\n\u001b[0;32m   2483\u001b[0m \u001b[39mif\u001b[39;00m \u001b[39mgetattr\u001b[39m(fn, magic\u001b[39m.\u001b[39mMAGIC_OUTPUT_CAN_BE_SILENCED, \u001b[39mFalse\u001b[39;00m):\n",
      "File \u001b[1;32m~\\AppData\\Roaming\\Python\\Python311\\site-packages\\IPython\\core\\magics\\script.py:314\u001b[0m, in \u001b[0;36mScriptMagics.shebang\u001b[1;34m(self, line, cell)\u001b[0m\n\u001b[0;32m    309\u001b[0m \u001b[39mif\u001b[39;00m args\u001b[39m.\u001b[39mraise_error \u001b[39mand\u001b[39;00m p\u001b[39m.\u001b[39mreturncode \u001b[39m!=\u001b[39m \u001b[39m0\u001b[39m:\n\u001b[0;32m    310\u001b[0m     \u001b[39m# If we get here and p.returncode is still None, we must have\u001b[39;00m\n\u001b[0;32m    311\u001b[0m     \u001b[39m# killed it but not yet seen its return code. We don't wait for it,\u001b[39;00m\n\u001b[0;32m    312\u001b[0m     \u001b[39m# in case it's stuck in uninterruptible sleep. -9 = SIGKILL\u001b[39;00m\n\u001b[0;32m    313\u001b[0m     rc \u001b[39m=\u001b[39m p\u001b[39m.\u001b[39mreturncode \u001b[39mor\u001b[39;00m \u001b[39m-\u001b[39m\u001b[39m9\u001b[39m\n\u001b[1;32m--> 314\u001b[0m     \u001b[39mraise\u001b[39;00m CalledProcessError(rc, cell)\n",
      "\u001b[1;31mCalledProcessError\u001b[0m: Command 'b'const friendsAtYourParty = 10;\\n\\nif (friendAtYourParty === 0) {\\n    console.log (\"Cool, now I have a all the nachos to myself\");\\n} else if (friendsAtYourParty >= 4){\\n    console.log (\"Perfect amount to play some Mario Kart\");\\n} else { \\n    console.loy (\"Wooooo, play the dance music\");\\n}\\n'' returned non-zero exit status 1."
     ]
    }
   ],
   "source": [
    "%%script node\n",
    "const friendsAtYourParty = 10;\n",
    "\n",
    "if (friendAtYourParty === 0) {\n",
    "    console.log (\"Cool, now I have a all the nachos to myself\");\n",
    "} else if (friendsAtYourParty >= 4){\n",
    "    console.log (\"Perfect amount to play some Mario Kart\");\n",
    "} else { \n",
    "    console.loy (\"Wooooo, play the dance music\");\n",
    "}"
   ]
  },
  {
   "cell_type": "markdown",
   "metadata": {},
   "source": [
    "the variable \"friendAtYourParty\" is where is the answer, but the code react with the answer. more like AI, if I change input variable, it will affect my result. the programme will do this, if the answer below 4, select this. If the answer more than 4, answer this and so on. "
   ]
  },
  {
   "cell_type": "markdown",
   "metadata": {},
   "source": [
    "13. Loops\n",
    "\n"
   ]
  },
  {
   "cell_type": "code",
   "execution_count": 14,
   "metadata": {
    "vscode": {
     "languageId": "javascript"
    }
   },
   "outputs": [
    {
     "name": "stdout",
     "output_type": "stream",
     "text": [
      "\u001b[33m2\u001b[39m\n"
     ]
    }
   ],
   "source": [
    "%%script node\n",
    "let friendAtYourParty = 0;\n",
    "\n",
    "friendAtYourParty = friendAtYourParty + 1;\n",
    "friendAtYourParty = friendAtYourParty + 1;\n",
    "\n",
    "console.log (friendAtYourParty);"
   ]
  },
  {
   "cell_type": "markdown",
   "metadata": {},
   "source": [
    "the result will the latest additional info which in this case the answer will be 2"
   ]
  },
  {
   "cell_type": "code",
   "execution_count": 13,
   "metadata": {
    "vscode": {
     "languageId": "javascript"
    }
   },
   "outputs": [
    {
     "name": "stdout",
     "output_type": "stream",
     "text": [
      "\u001b[33m1\u001b[39m\n",
      "\u001b[33m2\u001b[39m\n",
      "\u001b[33m3\u001b[39m\n",
      "\u001b[33m4\u001b[39m\n",
      "\u001b[33m5\u001b[39m\n",
      "\u001b[33m6\u001b[39m\n",
      "\u001b[33m7\u001b[39m\n",
      "\u001b[33m8\u001b[39m\n",
      "\u001b[33m9\u001b[39m\n",
      "\u001b[33m10\u001b[39m\n",
      "\u001b[33m10\u001b[39m\n"
     ]
    }
   ],
   "source": [
    "%%script node\n",
    "let friendAtYourParty = 0;\n",
    "\n",
    "while (friendAtYourParty < 10) {\n",
    "    friendAtYourParty = friendAtYourParty + 1;\n",
    "    console.log(friendAtYourParty);\n",
    "}\n",
    "\n",
    "console.log(friendAtYourParty);"
   ]
  },
  {
   "cell_type": "markdown",
   "metadata": {},
   "source": [
    "the code above allowing the looping without use a lot of line of coding, the point of the above coding is, when the number met as per design, it will fetch accordingly.\n",
    "\n",
    "14. Adding Comments"
   ]
  },
  {
   "cell_type": "code",
   "execution_count": 11,
   "metadata": {
    "vscode": {
     "languageId": "javascript"
    }
   },
   "outputs": [
    {
     "name": "stdout",
     "output_type": "stream",
     "text": [
      "\u001b[33m1\u001b[39m\n",
      "\u001b[33m2\u001b[39m\n",
      "\u001b[33m3\u001b[39m\n",
      "\u001b[33m4\u001b[39m\n",
      "\u001b[33m5\u001b[39m\n",
      "\u001b[33m6\u001b[39m\n",
      "\u001b[33m7\u001b[39m\n",
      "\u001b[33m8\u001b[39m\n",
      "\u001b[33m9\u001b[39m\n",
      "\u001b[33m10\u001b[39m\n",
      "\u001b[33m10\u001b[39m\n"
     ]
    }
   ],
   "source": [
    "%%script node\n",
    "let friendAtYourParty = 0;\n",
    "\n",
    "/*\n",
    "\n",
    "Anything within this bracket you can write anything relevant\n",
    "\n",
    "*/\n",
    "\n",
    "\n",
    "// using this, only one line of the code that able to make instruction\n",
    "while (friendAtYourParty < 10) {\n",
    "    friendAtYourParty = friendAtYourParty + 1;\n",
    "    console.log(friendAtYourParty);\n",
    "}\n",
    "\n",
    "console.log(friendAtYourParty);"
   ]
  },
  {
   "cell_type": "markdown",
   "metadata": {},
   "source": [
    "15. Incrementing"
   ]
  },
  {
   "cell_type": "code",
   "execution_count": 10,
   "metadata": {
    "vscode": {
     "languageId": "javascript"
    }
   },
   "outputs": [
    {
     "name": "stdout",
     "output_type": "stream",
     "text": [
      "\u001b[33m3\u001b[39m\n",
      "\u001b[33m6\u001b[39m\n",
      "\u001b[33m9\u001b[39m\n",
      "\u001b[33m12\u001b[39m\n",
      "\u001b[33m12\u001b[39m\n"
     ]
    }
   ],
   "source": [
    "%%script node\n",
    "let friendAtYourParty = 0;\n",
    "\n",
    "while (friendAtYourParty < 10) {\n",
    "    // friendAtYourParty = friendAtYourParty + 1; all of the line between work similarly as this line of code.\n",
    "    friendAtYourParty += 1;\n",
    "    friendAtYourParty++;\n",
    "    ++friendAtYourParty;\n",
    "    console.log(friendAtYourParty);\n",
    "}\n",
    "\n",
    "console.log(friendAtYourParty);"
   ]
  },
  {
   "cell_type": "markdown",
   "metadata": {},
   "source": [
    "16. Incrementing in Loops"
   ]
  },
  {
   "cell_type": "code",
   "execution_count": 9,
   "metadata": {
    "vscode": {
     "languageId": "javascript"
    }
   },
   "outputs": [
    {
     "name": "stdout",
     "output_type": "stream",
     "text": [
      "\u001b[33m11\u001b[39m\n"
     ]
    }
   ],
   "source": [
    "%%script node\n",
    "let friendAtYourParty = 0;\n",
    "// let i=0; first one you declare your control variables let i start at 0\n",
    "// i <= 10; the second one is control statement which is as long i less than 10 keep doing this until i less than 10\n",
    "// i++; the last, run this statement at the end of every loop, so, the end of every loop do i++\n",
    "for (let i = 0; i <= 10; i++) {\n",
    "    friendAtYourParty++;\n",
    "}\n",
    "\n",
    "console.log(friendAtYourParty);"
   ]
  },
  {
   "cell_type": "markdown",
   "metadata": {},
   "source": [
    "17. Looping Exercise\n",
    "\n",
    "Test JavaScript on <a href=\"https://codepen.io/btholt/pen/ELozBz\">JS exercise on codepen</a>"
   ]
  },
  {
   "cell_type": "code",
   "execution_count": 8,
   "metadata": {
    "vscode": {
     "languageId": "javascript"
    }
   },
   "outputs": [
    {
     "name": "stdout",
     "output_type": "stream",
     "text": [
      "ttttt\n"
     ]
    }
   ],
   "source": [
    "%%script node\n",
    "const character = 't';\n",
    "const timesToRepeat = 4;\n",
    "let solution = '';\n",
    "\n",
    "// your code here,  some sort of loop\n",
    "for (let i = 0; i <= timesToRepeat; i++) {\n",
    "  solution += character;\n",
    "}\n",
    "\n",
    "console.log(solution); //\"tttt\""
   ]
  },
  {
   "cell_type": "markdown",
   "metadata": {},
   "source": [
    "18. Function & Parameters\n",
    "\n",
    "Function is a bit of re-usable code. Just how we like to re-use CSS classes, we love to re-use code."
   ]
  },
  {
   "cell_type": "code",
   "execution_count": 7,
   "metadata": {
    "vscode": {
     "languageId": "javascript"
    }
   },
   "outputs": [
    {
     "name": "stdout",
     "output_type": "stream",
     "text": [
      "\u001b[33m7\u001b[39m\n"
     ]
    }
   ],
   "source": [
    "%%script node\n",
    "function addTwo(number) {\n",
    "    return number + 2;\n",
    "}\n",
    "\n",
    "const finalAnswer = addTwo(5);\n",
    "console.log(finalAnswer);"
   ]
  },
  {
   "cell_type": "markdown",
   "metadata": {},
   "source": [
    "Function is something that built-in in the system to recognize something must be that. for example, if you write `number` the next variable must be in number `(0,1,2,3,...)`.So, function is a bit of usable code. That some sort of input, and it give some sort of output and that's function do."
   ]
  },
  {
   "cell_type": "markdown",
   "metadata": {},
   "source": [
    "19. Scope\n",
    "\n",
    "We will talk about scope multiple times but we will start off here with it. Every time you call a function, it has its own scope. Other things can't peek into it; it just hast its own little workspace for it work with. Once its done, any variable that you haven't explicitly held on to or returned at the end is discarded. For example"
   ]
  },
  {
   "cell_type": "code",
   "execution_count": 6,
   "metadata": {
    "vscode": {
     "languageId": "javascript"
    }
   },
   "outputs": [
    {
     "name": "stderr",
     "output_type": "stream",
     "text": [
      "[stdin]:13\n",
      "console.log(yetSomeOtherVariable);\n",
      "            ^\n",
      "\n",
      "ReferenceError: yetSomeOtherVariable is not defined\n",
      "    at [stdin]:13:13\n",
      "\u001b[90m    at Script.runInThisContext (node:vm:122:12)\u001b[39m\n",
      "\u001b[90m    at Object.runInThisContext (node:vm:296:38)\u001b[39m\n",
      "\u001b[90m    at node:internal/process/execution:83:21\u001b[39m\n",
      "    at [stdin]-wrapper:6:24\n",
      "\u001b[90m    at runScript (node:internal/process/execution:82:62)\u001b[39m\n",
      "\u001b[90m    at evalScript (node:internal/process/execution:104:10)\u001b[39m\n",
      "\u001b[90m    at node:internal/main/eval_stdin:31:5\u001b[39m\n",
      "\u001b[90m    at Socket.<anonymous> (node:internal/process/execution:205:5)\u001b[39m\n",
      "\u001b[90m    at Socket.emit (node:events:526:35)\u001b[39m\n",
      "\n",
      "Node.js v20.8.0\n"
     ]
    },
    {
     "ename": "CalledProcessError",
     "evalue": "Command 'b'\\nfunction addFive (number) {\\n    const someVariable = \"you can\\'t see me outside this function\";\\n\\n    console.log(anotherVariable);\\n    return number + 5;\\n}\\n\\nif(true) {\\n    const yetSomeOtherVariable = \\'Only in scope for the if statement\\';\\n}\\n\\nconsole.log(yetSomeOtherVariable);\\n\\nconst anotherVariable = \\'something else\\';\\n\\naddFive(10)\\nconsole.log(someVariable)\\n'' returned non-zero exit status 1.",
     "output_type": "error",
     "traceback": [
      "\u001b[1;31m---------------------------------------------------------------------------\u001b[0m",
      "\u001b[1;31mCalledProcessError\u001b[0m                        Traceback (most recent call last)",
      "\u001b[1;32mc:\\Users\\User\\OneDrive - Alexander Poh Architect\\APA PROJECTS\\00 LOKMAN'S PERSONAL DOCS\\09 GITHUB PROJECTS\\Front-End_Development\\06 Introduction to JavaScript.ipynb Cell 55\u001b[0m line \u001b[0;36m1\n\u001b[1;32m----> <a href='vscode-notebook-cell:/c%3A/Users/User/OneDrive%20-%20Alexander%20Poh%20Architect/APA%20PROJECTS/00%20LOKMAN%27S%20PERSONAL%20DOCS/09%20GITHUB%20PROJECTS/Front-End_Development/06%20Introduction%20to%20JavaScript.ipynb#Y105sZmlsZQ%3D%3D?line=0'>1</a>\u001b[0m get_ipython()\u001b[39m.\u001b[39;49mrun_cell_magic(\u001b[39m'\u001b[39;49m\u001b[39mscript\u001b[39;49m\u001b[39m'\u001b[39;49m, \u001b[39m'\u001b[39;49m\u001b[39mnode\u001b[39;49m\u001b[39m'\u001b[39;49m, \u001b[39m'\u001b[39;49m\u001b[39m\\n\u001b[39;49;00m\u001b[39mfunction addFive (number) \u001b[39;49m\u001b[39m{\u001b[39;49m\u001b[39m\\n\u001b[39;49;00m\u001b[39m    const someVariable = \u001b[39;49m\u001b[39m\"\u001b[39;49m\u001b[39myou can\u001b[39;49m\u001b[39m\\'\u001b[39;49;00m\u001b[39mt see me outside this function\u001b[39;49m\u001b[39m\"\u001b[39;49m\u001b[39m;\u001b[39;49m\u001b[39m\\n\u001b[39;49;00m\u001b[39m\\n\u001b[39;49;00m\u001b[39m    console.log(anotherVariable);\u001b[39;49m\u001b[39m\\n\u001b[39;49;00m\u001b[39m    return number + 5;\u001b[39;49m\u001b[39m\\n\u001b[39;49;00m\u001b[39m}\u001b[39;49m\u001b[39m\\n\u001b[39;49;00m\u001b[39m\\n\u001b[39;49;00m\u001b[39mif(true) \u001b[39;49m\u001b[39m{\u001b[39;49m\u001b[39m\\n\u001b[39;49;00m\u001b[39m    const yetSomeOtherVariable = \u001b[39;49m\u001b[39m\\'\u001b[39;49;00m\u001b[39mOnly in scope for the if statement\u001b[39;49m\u001b[39m\\'\u001b[39;49;00m\u001b[39m;\u001b[39;49m\u001b[39m\\n\u001b[39;49;00m\u001b[39m}\u001b[39;49m\u001b[39m\\n\u001b[39;49;00m\u001b[39m\\n\u001b[39;49;00m\u001b[39mconsole.log(yetSomeOtherVariable);\u001b[39;49m\u001b[39m\\n\u001b[39;49;00m\u001b[39m\\n\u001b[39;49;00m\u001b[39mconst anotherVariable = \u001b[39;49m\u001b[39m\\'\u001b[39;49;00m\u001b[39msomething else\u001b[39;49m\u001b[39m\\'\u001b[39;49;00m\u001b[39m;\u001b[39;49m\u001b[39m\\n\u001b[39;49;00m\u001b[39m\\n\u001b[39;49;00m\u001b[39maddFive(10)\u001b[39;49m\u001b[39m\\n\u001b[39;49;00m\u001b[39mconsole.log(someVariable)\u001b[39;49m\u001b[39m\\n\u001b[39;49;00m\u001b[39m'\u001b[39;49m)\n",
      "File \u001b[1;32m~\\AppData\\Roaming\\Python\\Python311\\site-packages\\IPython\\core\\interactiveshell.py:2478\u001b[0m, in \u001b[0;36mInteractiveShell.run_cell_magic\u001b[1;34m(self, magic_name, line, cell)\u001b[0m\n\u001b[0;32m   2476\u001b[0m \u001b[39mwith\u001b[39;00m \u001b[39mself\u001b[39m\u001b[39m.\u001b[39mbuiltin_trap:\n\u001b[0;32m   2477\u001b[0m     args \u001b[39m=\u001b[39m (magic_arg_s, cell)\n\u001b[1;32m-> 2478\u001b[0m     result \u001b[39m=\u001b[39m fn(\u001b[39m*\u001b[39;49margs, \u001b[39m*\u001b[39;49m\u001b[39m*\u001b[39;49mkwargs)\n\u001b[0;32m   2480\u001b[0m \u001b[39m# The code below prevents the output from being displayed\u001b[39;00m\n\u001b[0;32m   2481\u001b[0m \u001b[39m# when using magics with decodator @output_can_be_silenced\u001b[39;00m\n\u001b[0;32m   2482\u001b[0m \u001b[39m# when the last Python token in the expression is a ';'.\u001b[39;00m\n\u001b[0;32m   2483\u001b[0m \u001b[39mif\u001b[39;00m \u001b[39mgetattr\u001b[39m(fn, magic\u001b[39m.\u001b[39mMAGIC_OUTPUT_CAN_BE_SILENCED, \u001b[39mFalse\u001b[39;00m):\n",
      "File \u001b[1;32m~\\AppData\\Roaming\\Python\\Python311\\site-packages\\IPython\\core\\magics\\script.py:314\u001b[0m, in \u001b[0;36mScriptMagics.shebang\u001b[1;34m(self, line, cell)\u001b[0m\n\u001b[0;32m    309\u001b[0m \u001b[39mif\u001b[39;00m args\u001b[39m.\u001b[39mraise_error \u001b[39mand\u001b[39;00m p\u001b[39m.\u001b[39mreturncode \u001b[39m!=\u001b[39m \u001b[39m0\u001b[39m:\n\u001b[0;32m    310\u001b[0m     \u001b[39m# If we get here and p.returncode is still None, we must have\u001b[39;00m\n\u001b[0;32m    311\u001b[0m     \u001b[39m# killed it but not yet seen its return code. We don't wait for it,\u001b[39;00m\n\u001b[0;32m    312\u001b[0m     \u001b[39m# in case it's stuck in uninterruptible sleep. -9 = SIGKILL\u001b[39;00m\n\u001b[0;32m    313\u001b[0m     rc \u001b[39m=\u001b[39m p\u001b[39m.\u001b[39mreturncode \u001b[39mor\u001b[39;00m \u001b[39m-\u001b[39m\u001b[39m9\u001b[39m\n\u001b[1;32m--> 314\u001b[0m     \u001b[39mraise\u001b[39;00m CalledProcessError(rc, cell)\n",
      "\u001b[1;31mCalledProcessError\u001b[0m: Command 'b'\\nfunction addFive (number) {\\n    const someVariable = \"you can\\'t see me outside this function\";\\n\\n    console.log(anotherVariable);\\n    return number + 5;\\n}\\n\\nif(true) {\\n    const yetSomeOtherVariable = \\'Only in scope for the if statement\\';\\n}\\n\\nconsole.log(yetSomeOtherVariable);\\n\\nconst anotherVariable = \\'something else\\';\\n\\naddFive(10)\\nconsole.log(someVariable)\\n'' returned non-zero exit status 1."
     ]
    }
   ],
   "source": [
    "%%script node\n",
    "\n",
    "function addFive (number) {\n",
    "    const someVariable = \"you can't see me outside this function\";\n",
    "\n",
    "    console.log(anotherVariable);\n",
    "    return number + 5;\n",
    "}\n",
    "\n",
    "if(true) {\n",
    "    const yetSomeOtherVariable = 'Only in scope for the if statement';\n",
    "}\n",
    "\n",
    "console.log(yetSomeOtherVariable);\n",
    "\n",
    "const anotherVariable = 'something else';\n",
    "\n",
    "addFive(10)\n",
    "console.log(someVariable)"
   ]
  },
  {
   "cell_type": "markdown",
   "metadata": {},
   "source": []
  },
  {
   "cell_type": "markdown",
   "metadata": {},
   "source": [
    "once the function is over the parameter will be thrown out. However, ill work again once you reassign back.\n",
    "\n",
    "20. Experiment with Scope"
   ]
  },
  {
   "cell_type": "code",
   "execution_count": 5,
   "metadata": {
    "vscode": {
     "languageId": "javascript"
    }
   },
   "outputs": [
    {
     "name": "stdout",
     "output_type": "stream",
     "text": [
      "2\n",
      "1\n"
     ]
    }
   ],
   "source": [
    "%%script node\n",
    "let something = '1';\n",
    "\n",
    "if (true) {\n",
    "    let something = '2';\n",
    "    console.log(something)\n",
    "}\n",
    "\n",
    "console.log(something)\n",
    "\n"
   ]
  },
  {
   "cell_type": "code",
   "execution_count": 8,
   "metadata": {
    "vscode": {
     "languageId": "javascript"
    }
   },
   "outputs": [
    {
     "data": {
      "application/javascript": "\nlet something = 'outside the function';\n\nfunction thing() {\n    let something = 'outside the if statement';\n    if (true) {\n        let something = 'inside the if statement';\n        console.log(something);\n    }\n    console.log(something);\n}\n\nthing();\n\nconsole.log(something);\n",
      "text/plain": [
       "<IPython.core.display.Javascript object>"
      ]
     },
     "metadata": {},
     "output_type": "display_data"
    }
   ],
   "source": [
    "%%javascript\n",
    "\n",
    "let something = 'outside the function';\n",
    "\n",
    "function thing() {\n",
    "    let something = 'outside the if statement';\n",
    "    if (true) {\n",
    "        let something = 'inside the if statement';\n",
    "        console.log(something);\n",
    "    }\n",
    "    console.log(something);\n",
    "}\n",
    "\n",
    "thing();\n",
    "\n",
    "console.log(something);\n"
   ]
  },
  {
   "cell_type": "markdown",
   "metadata": {},
   "source": [
    "Based on code above, it is very confusing since the usage of word is redundant, whenever possible avoid use the similar word"
   ]
  },
  {
   "cell_type": "code",
   "execution_count": 23,
   "metadata": {
    "vscode": {
     "languageId": "javascript"
    }
   },
   "outputs": [
    {
     "name": "stdout",
     "output_type": "stream",
     "text": [
      "\u001b[33m1\u001b[39m\n",
      "345\n"
     ]
    }
   ],
   "source": [
    "%%script Node\n",
    "\n",
    "console.log(Math.min(5.1, 1, 100,));\n",
    "\n",
    "const name = \"0123456789\";\n",
    "console.log(name.substr(3, 3));"
   ]
  },
  {
   "cell_type": "markdown",
   "metadata": {},
   "source": [
    "## Turn Off JavaScript in Preview\n",
    "\n",
    "On any page that displays a grid of Pens as live preview, or in the editor itself, you can disable the JavaScript with this query parameter at the end of the URL:\n",
    "\n",
    "`?turn_off_js=true`\n",
    "\n",
    "This can be useful if you find (or accidentally create) a Pen with JavaScript that is taking too long to run - for example, a Pen with an infinite loop that hans the browser. With JavaScript turned off, you can go into the editor and update the Pen, or go to your profile page and delete it. JavaScript will still run on the parent page, so you can save your changes.\n",
    "\n",
    "* Example of places you can use it:\n",
    "\n",
    "![In the editor](https://codepen.io/bound20/pen/Jilno?turn_off_js=true)\n",
    "![On Your Profile Page](https://codepen.io/chris/coyier/pens/public/?turn_off_js=true)\n",
    "`In CodePen Project` In Projects, it's slightly different. Instead of turning off JavaScript, youcan cancel the render of the preview.\n",
    "\n",
    "`?cancel_render=true`\n",
    "\n",
    "Once you have corrected or deleted the problem Pen, you can remove the query parameter from the end of the URL and refresh the page to let JavaScript run again."
   ]
  },
  {
   "cell_type": "code",
   "execution_count": 1,
   "metadata": {
    "vscode": {
     "languageId": "javascript"
    }
   },
   "outputs": [
    {
     "name": "stdout",
     "output_type": "stream",
     "text": [
      "Hello, World!\n"
     ]
    }
   ],
   "source": [
    "%%script node\n",
    "\n",
    "console.log(\"Hello, World!\");"
   ]
  },
  {
   "cell_type": "code",
   "execution_count": 2,
   "metadata": {
    "vscode": {
     "languageId": "javascript"
    }
   },
   "outputs": [
    {
     "name": "stdout",
     "output_type": "stream",
     "text": [
      "\u001b[33m10\u001b[39m\n"
     ]
    }
   ],
   "source": [
    "%%script node\n",
    "\n",
    "let scope = 10\n",
    "console.log(scope)"
   ]
  },
  {
   "cell_type": "code",
   "execution_count": 15,
   "metadata": {
    "vscode": {
     "languageId": "javascript"
    }
   },
   "outputs": [
    {
     "data": {
      "text/html": [
       "    < div id = \"container\" >\n",
       "        <div class=\"question\">\n",
       "            <form id=\"form\" action=\"\">\n",
       "                <label for=\"input\">\n",
       "                    <span id=\"text\">what is the capital of australia?</span>\n",
       "                    <input id=\"input\" placeholder=\"Answer\" />\n",
       "                </label>\n",
       "                <button id=\"button\">Guess</button>\n",
       "            </form>\n",
       "        </div>\n",
       "</ >\n",
       "\n",
       "<style>\n",
       "* {\n",
       "  box-sizing: border-box;\n",
       "}\n",
       "\n",
       "body {\n",
       "  background-color: #eee;\n",
       "}\n",
       "\n",
       "#container {\n",
       "  display: flex;\n",
       "  justify-content: center;\n",
       "  align-items: center;\n",
       "  position: absolute;\n",
       "  top: 0;\n",
       "  left: 0;\n",
       "  right: 0;\n",
       "  bottom: 0;\n",
       "}\n",
       "\n",
       ".question {\n",
       "  background-color: white;\n",
       "  padding: 30px;\n",
       "  box-shadow: 5px 5px 5px #666;\n",
       "  text-align: center;\n",
       "}\n",
       "\n",
       "label {\n",
       "  font-family: cursive;\n",
       "  font-size: 25px;\n",
       "}\n",
       "\n",
       "input {\n",
       "  display: block;\n",
       "  width: 100%;\n",
       "  margin-top: 15px;\n",
       "  text-align: center;\n",
       "  padding: 0 15px;\n",
       "  font-size: 25px;\n",
       "  border-left-color: transparent;\n",
       "  border-right-color: transparent;\n",
       "  border-top-color: transparent;\n",
       "  border-bottom-color: #333;\n",
       "  font-family: cursive;\n",
       "}\n",
       "\n",
       "button {\n",
       "  font-family: cursive;\n",
       "  padding: 0 25px;\n",
       "  font-size: 25px;\n",
       "  margin-top: 15px;\n",
       "  cursor: pointer;\n",
       "  border-radius: 5px;\n",
       "}\n",
       "</style>\n",
       "\n",
       "<script>\n",
       "let points = 0;\n",
       "\n",
       "    function australia(userAnswer) {\n",
       "  // what is the capital of australia?\n",
       "  // 100 pts\n",
       "  const isCorrect = userAnswer === 'Canberra';\n",
       "\n",
       "    if (isCorrect) {\n",
       "        points += 100; \n",
       "  }\n",
       "    return isCorrect;\n",
       "}\n",
       "\n",
       "    function canada(userAnswer) {\n",
       "        // what is the capital of canada?\n",
       "        // 100 pts\n",
       "\n",
       "    }\n",
       "\n",
       "    function uppercase(userAnswer, word) {\n",
       "        // what is <word> in all capital letters?\n",
       "        // 200 pts\n",
       "\n",
       "    }\n",
       "\n",
       "    function firstThreeLetters(userAnswer, word) {\n",
       "        // what are the first three letters of <word>?\n",
       "        // 200 pts\n",
       "\n",
       "    }\n",
       "\n",
       "    function squared(userAnswer, number) {\n",
       "  // what is <number> squared?\n",
       "  // 200 pts\n",
       "  \n",
       "  const isCorrect = userAnswer == number ** 2;\n",
       "  \n",
       "}\n",
       "\n",
       "        function multiplication(userAnswer, num1, num2) {\n",
       "            // what is <num1> multiplied by <num2>?\n",
       "            // 300 pts\n",
       "\n",
       "        }\n",
       "\n",
       "        function age(userAnswer, currentYear, birthYear) {\n",
       "            // if someone was born in <birthYear> and already has had their birthday this year, how old are they?\n",
       "            // 300 pts\n",
       "\n",
       "        }\n",
       "\n",
       "        function larger(userAnswer, num1, num2) {\n",
       "            // which of ${number4} and ${number5} is larger (if they're the same then pick that number)?\n",
       "            // 300 pts\n",
       "\n",
       "        }\n",
       "\n",
       "        function getScore() {\n",
       "            // returns the current user's quiz score score\n",
       "\n",
       "        }\n",
       "\n",
       "// DO NOT MODIFY CODE UNDER THIS COMMENT\n",
       "\n",
       "        // Do not worry about what is underneath here: it's the rest\n",
       "        // of what makes this page works. You'l learn about how these\n",
       "        // things work as you work through the workshop\n",
       "\n",
       "        (function() {\n",
       "  const words = [\n",
       "        \"squeeze\",\n",
       "        \"suspend\",\n",
       "        \"cloudy\",\n",
       "        \"parallel\",\n",
       "        \"scrape\",\n",
       "        \"puppy\",\n",
       "        \"horses\",\n",
       "        \"sedate\",\n",
       "        \"guarded\",\n",
       "        \"part\",\n",
       "        \"name\",\n",
       "        \"solid\",\n",
       "        \"queue\",\n",
       "        \"alike\",\n",
       "        \"home\",\n",
       "        \"overwrought\",\n",
       "        \"talented\",\n",
       "        \"concerned\",\n",
       "        \"increase\",\n",
       "        \"silky\",\n",
       "        \"rude\",\n",
       "        \"hypnotic\",\n",
       "        \"moaning\",\n",
       "        \"rabbit\",\n",
       "        \"oily\",\n",
       "        \"intelligent\",\n",
       "        \"delicious\",\n",
       "        \"snow\",\n",
       "        \"sticky\",\n",
       "        \"view\"\n",
       "        ];\n",
       "        let currentQuestion = 0;\n",
       "        const text = document.getElementById(\"text\")\n",
       "\n",
       "        function validate(userResponse) {\n",
       "    const answer = process[currentQuestion].validator.apply(window, [userResponse, ...(process[currentQuestion].meta ? process[currentQuestion].meta : [])]);\n",
       "        let response = \"\";\n",
       "\n",
       "        if (answer === true) {\n",
       "            response = \"correct!\";\n",
       "    } else if (answer === false) {\n",
       "            response = \"incorrect :(\";\n",
       "    } else {\n",
       "            response = \"got a response other than true or false\";\n",
       "    }\n",
       "\n",
       "        alert(response);\n",
       "        currentQuestion++;\n",
       "    \n",
       "    if (currentQuestion >= process.length) {\n",
       "            document.getElementById(\"container\").innerHTML = `<h1>Congrats! You finished. You got ${getScore()} points!</h1>`;\n",
       "        return;\n",
       "    }\n",
       "\n",
       "        text.innerText = process[currentQuestion].question;\n",
       "  }\n",
       "\n",
       "  const randomNumber = max => Math.floor(Math.random() * max);\n",
       "  const randomWord = () => words[randomNumber(words.length)];\n",
       "        const word1 = randomWord();\n",
       "        const word2 = randomWord();\n",
       "        const number1 = randomNumber(25);\n",
       "        const number2 = randomNumber(25);\n",
       "        const number3 = randomNumber(25);\n",
       "        const number4 = randomNumber(25);\n",
       "        const number5 = randomNumber(25);\n",
       "        const birthYear = randomNumber(40) + 1970;\n",
       "        const currentYear = new Date().getFullYear();\n",
       "\n",
       "        const process = [\n",
       "        {\n",
       "            question: \"what is the capital of australia?\",\n",
       "        validator: australia,\n",
       "        points: 100\n",
       "    },\n",
       "        {\n",
       "            question: \"what is the capital of canada?\",\n",
       "        validator: canada,\n",
       "        points: 100\n",
       "    },\n",
       "        {\n",
       "            question: `what is \"${word1}\" in all capital letters?`,\n",
       "        meta: [word1],\n",
       "        validator: uppercase,\n",
       "        points: 200\n",
       "    },\n",
       "        {\n",
       "            question: `what are the first three letters of \"${word2}\"?`,\n",
       "        meta: [word2],\n",
       "        validator: firstThreeLetters,\n",
       "        points: 200\n",
       "    },\n",
       "        {\n",
       "            question: `what is ${number1} squared?`,\n",
       "        meta: [number1],\n",
       "        validator: squared,\n",
       "        points: 200\n",
       "    },\n",
       "        {\n",
       "            question: `what is ${number2} multiplied by ${number3}?`,\n",
       "        meta: [number2, number3],\n",
       "        validator: multiplication,\n",
       "        points: 300\n",
       "    },\n",
       "        {\n",
       "            question: `if someone was born in ${birthYear} and already has had their birthday this year, how old are they (assuming it's ${currentYear})?`,\n",
       "        meta: [currentYear, birthYear],\n",
       "        validator: age,\n",
       "        points: 300\n",
       "    },\n",
       "        {\n",
       "            question: `which of ${number4} and ${number5} is larger (if they're the same then pick that number)?`,\n",
       "        meta: [number4, number5],\n",
       "        validator: larger,\n",
       "        points: 300\n",
       "    }\n",
       "        ];\n",
       "\n",
       "        const input = document.getElementById(\"input\");\n",
       "  document.getElementById(\"form\").addEventListener(\"submit\", e => {\n",
       "            e.preventDefault();\n",
       "        validate(input.value);\n",
       "        input.value = \"\";\n",
       "  });\n",
       "})();\n",
       "</script>\n"
      ],
      "text/plain": [
       "<IPython.core.display.HTML object>"
      ]
     },
     "metadata": {},
     "output_type": "display_data"
    }
   ],
   "source": [
    "%%html\n",
    "    < div id = \"container\" >\n",
    "        <div class=\"question\">\n",
    "            <form id=\"form\" action=\"\">\n",
    "                <label for=\"input\">\n",
    "                    <span id=\"text\">what is the capital of australia?</span>\n",
    "                    <input id=\"input\" placeholder=\"Answer\" />\n",
    "                </label>\n",
    "                <button id=\"button\">Guess</button>\n",
    "            </form>\n",
    "        </div>\n",
    "</ >\n",
    "\n",
    "<style>\n",
    "* {\n",
    "  box-sizing: border-box;\n",
    "}\n",
    "\n",
    "body {\n",
    "  background-color: #eee;\n",
    "}\n",
    "\n",
    "#container {\n",
    "  display: flex;\n",
    "  justify-content: center;\n",
    "  align-items: center;\n",
    "  position: absolute;\n",
    "  top: 0;\n",
    "  left: 0;\n",
    "  right: 0;\n",
    "  bottom: 0;\n",
    "}\n",
    "\n",
    ".question {\n",
    "  background-color: white;\n",
    "  padding: 30px;\n",
    "  box-shadow: 5px 5px 5px #666;\n",
    "  text-align: center;\n",
    "}\n",
    "\n",
    "label {\n",
    "  font-family: cursive;\n",
    "  font-size: 25px;\n",
    "}\n",
    "\n",
    "input {\n",
    "  display: block;\n",
    "  width: 100%;\n",
    "  margin-top: 15px;\n",
    "  text-align: center;\n",
    "  padding: 0 15px;\n",
    "  font-size: 25px;\n",
    "  border-left-color: transparent;\n",
    "  border-right-color: transparent;\n",
    "  border-top-color: transparent;\n",
    "  border-bottom-color: #333;\n",
    "  font-family: cursive;\n",
    "}\n",
    "\n",
    "button {\n",
    "  font-family: cursive;\n",
    "  padding: 0 25px;\n",
    "  font-size: 25px;\n",
    "  margin-top: 15px;\n",
    "  cursor: pointer;\n",
    "  border-radius: 5px;\n",
    "}\n",
    "</style>\n",
    "\n",
    "<script>\n",
    "let points = 0;\n",
    "\n",
    "    function australia(userAnswer) {\n",
    "  // what is the capital of australia?\n",
    "  // 100 pts\n",
    "  const isCorrect = userAnswer === 'Canberra';\n",
    "\n",
    "    if (isCorrect) {\n",
    "        points += 100; \n",
    "  }\n",
    "    return isCorrect;\n",
    "}\n",
    "\n",
    "    function canada(userAnswer) {\n",
    "        // what is the capital of canada?\n",
    "        // 100 pts\n",
    "\n",
    "    }\n",
    "\n",
    "    function uppercase(userAnswer, word) {\n",
    "        // what is <word> in all capital letters?\n",
    "        // 200 pts\n",
    "\n",
    "    }\n",
    "\n",
    "    function firstThreeLetters(userAnswer, word) {\n",
    "        // what are the first three letters of <word>?\n",
    "        // 200 pts\n",
    "\n",
    "    }\n",
    "\n",
    "    function squared(userAnswer, number) {\n",
    "  // what is <number> squared?\n",
    "  // 200 pts\n",
    "  \n",
    "  const isCorrect = userAnswer == number ** 2;\n",
    "  \n",
    "}\n",
    "\n",
    "        function multiplication(userAnswer, num1, num2) {\n",
    "            // what is <num1> multiplied by <num2>?\n",
    "            // 300 pts\n",
    "\n",
    "        }\n",
    "\n",
    "        function age(userAnswer, currentYear, birthYear) {\n",
    "            // if someone was born in <birthYear> and already has had their birthday this year, how old are they?\n",
    "            // 300 pts\n",
    "\n",
    "        }\n",
    "\n",
    "        function larger(userAnswer, num1, num2) {\n",
    "            // which of ${number4} and ${number5} is larger (if they're the same then pick that number)?\n",
    "            // 300 pts\n",
    "\n",
    "        }\n",
    "\n",
    "        function getScore() {\n",
    "            // returns the current user's quiz score score\n",
    "\n",
    "        }\n",
    "\n",
    "// DO NOT MODIFY CODE UNDER THIS COMMENT\n",
    "\n",
    "        // Do not worry about what is underneath here: it's the rest\n",
    "        // of what makes this page works. You'l learn about how these\n",
    "        // things work as you work through the workshop\n",
    "\n",
    "        (function() {\n",
    "  const words = [\n",
    "        \"squeeze\",\n",
    "        \"suspend\",\n",
    "        \"cloudy\",\n",
    "        \"parallel\",\n",
    "        \"scrape\",\n",
    "        \"puppy\",\n",
    "        \"horses\",\n",
    "        \"sedate\",\n",
    "        \"guarded\",\n",
    "        \"part\",\n",
    "        \"name\",\n",
    "        \"solid\",\n",
    "        \"queue\",\n",
    "        \"alike\",\n",
    "        \"home\",\n",
    "        \"overwrought\",\n",
    "        \"talented\",\n",
    "        \"concerned\",\n",
    "        \"increase\",\n",
    "        \"silky\",\n",
    "        \"rude\",\n",
    "        \"hypnotic\",\n",
    "        \"moaning\",\n",
    "        \"rabbit\",\n",
    "        \"oily\",\n",
    "        \"intelligent\",\n",
    "        \"delicious\",\n",
    "        \"snow\",\n",
    "        \"sticky\",\n",
    "        \"view\"\n",
    "        ];\n",
    "        let currentQuestion = 0;\n",
    "        const text = document.getElementById(\"text\")\n",
    "\n",
    "        function validate(userResponse) {\n",
    "    const answer = process[currentQuestion].validator.apply(window, [userResponse, ...(process[currentQuestion].meta ? process[currentQuestion].meta : [])]);\n",
    "        let response = \"\";\n",
    "\n",
    "        if (answer === true) {\n",
    "            response = \"correct!\";\n",
    "    } else if (answer === false) {\n",
    "            response = \"incorrect :(\";\n",
    "    } else {\n",
    "            response = \"got a response other than true or false\";\n",
    "    }\n",
    "\n",
    "        alert(response);\n",
    "        currentQuestion++;\n",
    "    \n",
    "    if (currentQuestion >= process.length) {\n",
    "            document.getElementById(\"container\").innerHTML = `<h1>Congrats! You finished. You got ${getScore()} points!</h1>`;\n",
    "        return;\n",
    "    }\n",
    "\n",
    "        text.innerText = process[currentQuestion].question;\n",
    "  }\n",
    "\n",
    "  const randomNumber = max => Math.floor(Math.random() * max);\n",
    "  const randomWord = () => words[randomNumber(words.length)];\n",
    "        const word1 = randomWord();\n",
    "        const word2 = randomWord();\n",
    "        const number1 = randomNumber(25);\n",
    "        const number2 = randomNumber(25);\n",
    "        const number3 = randomNumber(25);\n",
    "        const number4 = randomNumber(25);\n",
    "        const number5 = randomNumber(25);\n",
    "        const birthYear = randomNumber(40) + 1970;\n",
    "        const currentYear = new Date().getFullYear();\n",
    "\n",
    "        const process = [\n",
    "        {\n",
    "            question: \"what is the capital of australia?\",\n",
    "        validator: australia,\n",
    "        points: 100\n",
    "    },\n",
    "        {\n",
    "            question: \"what is the capital of canada?\",\n",
    "        validator: canada,\n",
    "        points: 100\n",
    "    },\n",
    "        {\n",
    "            question: `what is \"${word1}\" in all capital letters?`,\n",
    "        meta: [word1],\n",
    "        validator: uppercase,\n",
    "        points: 200\n",
    "    },\n",
    "        {\n",
    "            question: `what are the first three letters of \"${word2}\"?`,\n",
    "        meta: [word2],\n",
    "        validator: firstThreeLetters,\n",
    "        points: 200\n",
    "    },\n",
    "        {\n",
    "            question: `what is ${number1} squared?`,\n",
    "        meta: [number1],\n",
    "        validator: squared,\n",
    "        points: 200\n",
    "    },\n",
    "        {\n",
    "            question: `what is ${number2} multiplied by ${number3}?`,\n",
    "        meta: [number2, number3],\n",
    "        validator: multiplication,\n",
    "        points: 300\n",
    "    },\n",
    "        {\n",
    "            question: `if someone was born in ${birthYear} and already has had their birthday this year, how old are they (assuming it's ${currentYear})?`,\n",
    "        meta: [currentYear, birthYear],\n",
    "        validator: age,\n",
    "        points: 300\n",
    "    },\n",
    "        {\n",
    "            question: `which of ${number4} and ${number5} is larger (if they're the same then pick that number)?`,\n",
    "        meta: [number4, number5],\n",
    "        validator: larger,\n",
    "        points: 300\n",
    "    }\n",
    "        ];\n",
    "\n",
    "        const input = document.getElementById(\"input\");\n",
    "  document.getElementById(\"form\").addEventListener(\"submit\", e => {\n",
    "            e.preventDefault();\n",
    "        validate(input.value);\n",
    "        input.value = \"\";\n",
    "  });\n",
    "})();\n",
    "</script>"
   ]
  },
  {
   "cell_type": "markdown",
   "metadata": {},
   "source": [
    "You can put any expression (a technical terms, means anything you can stick on the right side of an equal sign, we will explore it more as we go) inside of the if Statement. In this case we are asking, is two plus two still equal four. If this is true (I hope so) then again the first block will be run. If not, the second will be.\n",
    "\n",
    "let's talk about `===` for a second. If you use just one `=` it means <b>is assigned to</b>. So, when we have const isLokmanCool = true;` you can verbalize that as \"The variable isLokmanCool is assigned to true\". Thus, we can't use that inside of the if statement because that's not we mean. We are trying to ask a question, not assign something. We are trying to ask \"is two plus two equal to four\". Enter the triple equals. Triple equals is the same as asking \"is this equal to that.\" We use the triple equals instead of the double equals because double equals does a lot of funny business that usually we don't want it to do. It does what's called coercion and we will tak about that below. But in the example `2 == \"2\"` but it does not `2 === \"2\"`. String 2 is double equal to number but string 2 is not triple equal to number 2.\n",
    "\n",
    "There's also `!==`. This is asking \"is this not equal to that\". Lastly you can ask with numbers <span style=\"background-color:gray\">> >=< <` as well to ask if number less than or greater that too. For another example:"
   ]
  }
 ],
 "metadata": {
  "kernelspec": {
   "display_name": "Python 3",
   "language": "python",
   "name": "python3"
  },
  "language_info": {
   "codemirror_mode": {
    "name": "ipython",
    "version": 3
   },
   "file_extension": ".py",
   "mimetype": "text/x-python",
   "name": "python",
   "nbconvert_exporter": "python",
   "pygments_lexer": "ipython3",
   "version": "3.11.5"
  },
  "orig_nbformat": 4
 },
 "nbformat": 4,
 "nbformat_minor": 2
}
